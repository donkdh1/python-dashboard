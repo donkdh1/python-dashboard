{
 "cells": [
  {
   "cell_type": "markdown",
   "metadata": {},
   "source": [
    "# Trends in Number of COVID-19 and Vaccine (Github)"
   ]
  },
  {
   "cell_type": "markdown",
   "metadata": {},
   "source": [
    "## Call package"
   ]
  },
  {
   "cell_type": "code",
   "execution_count": 1,
   "metadata": {},
   "outputs": [],
   "source": [
    "import pandas as pd\n",
    "import numpy as np\n",
    "import datetime"
   ]
  },
  {
   "cell_type": "code",
   "execution_count": 2,
   "metadata": {},
   "outputs": [],
   "source": [
    "# Path of the data's location\n",
    "path = 'C:/Users/Kim/Desktop/New Data/'"
   ]
  },
  {
   "cell_type": "markdown",
   "metadata": {},
   "source": [
    "## Data"
   ]
  },
  {
   "cell_type": "code",
   "execution_count": 3,
   "metadata": {},
   "outputs": [],
   "source": [
    "covid_conf = pd.read_csv(path + 'time_series_covid19_confirmed_US.csv')\n",
    "covid_deat = pd.read_csv(path + 'time_series_covid19_deaths_US.csv')\n",
    "covid_pop  = pd.read_csv(path + 'time_series_covid19_vaccine_doses_admin_US.csv')\n",
    "covid_vacc = pd.read_csv(path + 'people_vaccinated_us_timeline.csv')"
   ]
  },
  {
   "cell_type": "markdown",
   "metadata": {},
   "source": [
    "### Covid-19"
   ]
  },
  {
   "cell_type": "code",
   "execution_count": 4,
   "metadata": {},
   "outputs": [
    {
     "name": "stdout",
     "output_type": "stream",
     "text": [
      "  Province_State       date  confirmed\n",
      "0        Alabama 2020-01-22          0\n",
      "1        Alabama 2020-01-23          0\n",
      "2        Alabama 2020-01-24          0\n",
      "3        Alabama 2020-01-25          0\n",
      "4        Alabama 2020-01-26          0 \n",
      "       Province_State       date  confirmed\n",
      "35432        Wyoming 2021-10-27     101912\n",
      "35433        Wyoming 2021-10-28     102403\n",
      "35434        Wyoming 2021-10-29     102926\n",
      "35435        Wyoming 2021-10-30     102926\n",
      "35436        Wyoming 2021-10-31     102926\n"
     ]
    }
   ],
   "source": [
    "### COVID-19 (Confirmed by State)\n",
    "# 1) column's drop\n",
    "# 2) filter: iso2 == 'US'\n",
    "# 3) transform: wide → long\n",
    "# 4) date type: m/d/y → yyyy-mm-dd\n",
    "# 5) sum: US (group by state & date)\n",
    "# 6) filter: date ~ 2021-10-31 \n",
    "covid_conf = covid_conf.drop(['UID', 'iso3', 'code3', 'FIPS', 'Admin2','Country_Region', 'Lat', 'Long_', 'Combined_Key'], axis=1)\n",
    "conf = covid_conf[covid_conf['iso2'] == 'US']\n",
    "conf = pd.melt(conf, id_vars = ['iso2', 'Province_State'], var_name='date', value_name='confirmed')\n",
    "conf['date'] = pd.to_datetime(conf.date)\n",
    "conf = conf.groupby(['Province_State', 'date'], as_index = False).sum()  # US (group by date).\n",
    "conf = conf[conf['date'] <= '2021-10-31']\n",
    "print(conf.head(), '\\n', conf.tail())"
   ]
  },
  {
   "cell_type": "code",
   "execution_count": 5,
   "metadata": {},
   "outputs": [
    {
     "name": "stdout",
     "output_type": "stream",
     "text": [
      "  Province_State       date  deaths\n",
      "0        Alabama 2020-01-22       0\n",
      "1        Alabama 2020-01-23       0\n",
      "2        Alabama 2020-01-24       0\n",
      "3        Alabama 2020-01-25       0\n",
      "4        Alabama 2020-01-26       0 \n",
      "       Province_State       date  deaths\n",
      "35432        Wyoming 2021-10-27    1174\n",
      "35433        Wyoming 2021-10-28    1174\n",
      "35434        Wyoming 2021-10-29    1174\n",
      "35435        Wyoming 2021-10-30    1174\n",
      "35436        Wyoming 2021-10-31    1174\n"
     ]
    }
   ],
   "source": [
    "### COVID-19 (Deaths by State)\n",
    "# 1) column's drop\n",
    "# 2) filter: iso2 == 'US'\n",
    "# 3) transform: wide → long\n",
    "# 4) date type: m/d/y → yyyy-mm-dd\n",
    "# 5) sum: US (group by state & date)\n",
    "# 6) filter: date ~ 2021-10-31\n",
    "covid_deat = covid_deat.drop(['UID', 'iso3', 'code3', 'FIPS', 'Admin2','Country_Region', 'Lat', 'Long_', 'Combined_Key', 'Population'], axis=1)\n",
    "deat = covid_deat[covid_deat['iso2'] == 'US']\n",
    "deat = pd.melt(deat, id_vars = ['iso2', 'Province_State'], var_name='date', value_name='deaths')\n",
    "deat['date'] = pd.to_datetime(deat.date)\n",
    "deat = deat.groupby(['Province_State', 'date'], as_index = False).sum()  # US (group by date).\n",
    "deat = deat[deat['date'] <= '2021-10-31']\n",
    "print(deat.head(), '\\n', deat.tail())"
   ]
  },
  {
   "cell_type": "code",
   "execution_count": 6,
   "metadata": {},
   "outputs": [
    {
     "name": "stdout",
     "output_type": "stream",
     "text": [
      "     state       date  confirmed  deaths\n",
      "0  Alabama 2020-01-22          0       0\n",
      "1  Alabama 2020-01-23          0       0\n",
      "2  Alabama 2020-01-24          0       0\n",
      "3  Alabama 2020-01-25          0       0\n",
      "4  Alabama 2020-01-26          0       0 \n",
      "          state       date  confirmed  deaths\n",
      "34392  Wyoming 2021-10-27     101912    1174\n",
      "34393  Wyoming 2021-10-28     102403    1174\n",
      "34394  Wyoming 2021-10-29     102926    1174\n",
      "34395  Wyoming 2021-10-30     102926    1174\n",
      "34396  Wyoming 2021-10-31     102926    1174\n"
     ]
    }
   ],
   "source": [
    "### Join (Confirmed & Deaths) and rename\n",
    "covid = pd.merge(conf, deat, how='left', on=['Province_State', 'date'])\n",
    "covid.columns = ['state', 'date', 'confirmed', 'deaths']\n",
    "print(covid.head(), '\\n', covid.tail())"
   ]
  },
  {
   "cell_type": "markdown",
   "metadata": {},
   "source": [
    "### Population"
   ]
  },
  {
   "cell_type": "code",
   "execution_count": 7,
   "metadata": {},
   "outputs": [
    {
     "name": "stdout",
     "output_type": "stream",
     "text": [
      "        state  population\n",
      "0     Alabama   4903185.0\n",
      "1      Alaska    731545.0\n",
      "2     Arizona   7278717.0\n",
      "3    Arkansas   3017804.0\n",
      "4  California  39512223.0 \n",
      "             state  population\n",
      "46       Virginia   8535519.0\n",
      "47     Washington   7614893.0\n",
      "48  West Virginia   1792147.0\n",
      "49      Wisconsin   5822434.0\n",
      "50        Wyoming    578759.0\n"
     ]
    }
   ],
   "source": [
    "### US Population\n",
    "# 1) filter: iso2 == 'US'\n",
    "# 2) column's select\n",
    "# 3) rename\n",
    "covid_pop = covid_pop[covid_pop['iso2'] == 'US']\n",
    "pop = covid_pop[['Province_State', 'Population']]\n",
    "pop.columns = ['state', 'population']\n",
    "print(pop.head(), '\\n', pop.tail())"
   ]
  },
  {
   "cell_type": "markdown",
   "metadata": {},
   "source": [
    "### Vaccines"
   ]
  },
  {
   "cell_type": "code",
   "execution_count": 8,
   "metadata": {},
   "outputs": [
    {
     "name": "stdout",
     "output_type": "stream",
     "text": [
      "     state       date  fully  at_least_one\n",
      "0  Alabama 2020-12-10    NaN           NaN\n",
      "1  Alabama 2020-12-11    NaN           NaN\n",
      "2  Alabama 2020-12-12    NaN           NaN\n",
      "3  Alabama 2020-12-13    NaN           NaN\n",
      "4  Alabama 2020-12-14    NaN           NaN \n",
      "          state       date     fully  at_least_one\n",
      "21047  Wyoming 2021-10-27  252966.0      292654.0\n",
      "21048  Wyoming 2021-10-28  253414.0      293260.0\n",
      "21049  Wyoming 2021-10-29  253866.0      293892.0\n",
      "21050  Wyoming 2021-10-30  253968.0      294093.0\n",
      "21051  Wyoming 2021-10-31  254028.0      294284.0\n"
     ]
    }
   ],
   "source": [
    "### COVID-19 (Vaccines)\n",
    "################################### Fully= fully vaccinated, Fully+Partial = at least 1\n",
    "# 1) filter: iso2 == 'US'\n",
    "# 2) column's drop\n",
    "# 3) date type: m/d/y → yyyy-mm-dd\n",
    "# 4) sum\n",
    "# 5) rename\n",
    "# 6) filter: date ~ 2021-10-31\n",
    "vacc = covid_vacc.drop(['FIPS', 'Country_Region', 'Lat', 'Long_', 'Combined_Key'], axis=1)\n",
    "vacc['Date'] = pd.to_datetime(vacc.Date)\n",
    "vacc['at_least_one'] = vacc['People_Fully_Vaccinated'] + vacc['People_Partially_Vaccinated']\n",
    "vacc = vacc.drop(['People_Partially_Vaccinated'], axis=1)\n",
    "vacc.columns = ['state', 'date', 'fully', 'at_least_one']\n",
    "vacc = vacc[vacc['date'] <= '2021-10-31']\n",
    "print(vacc.head(), '\\n', vacc.tail())"
   ]
  },
  {
   "cell_type": "markdown",
   "metadata": {},
   "source": [
    "## Final Data Set (Join)"
   ]
  },
  {
   "cell_type": "code",
   "execution_count": 9,
   "metadata": {},
   "outputs": [
    {
     "name": "stdout",
     "output_type": "stream",
     "text": [
      "     state       date  confirmed  deaths  population  fully  at_least_one\n",
      "0  Alabama 2020-01-22          0       0         NaN    NaN           NaN\n",
      "1  Alabama 2020-01-23          0       0         NaN    NaN           NaN\n",
      "2  Alabama 2020-01-24          0       0         NaN    NaN           NaN\n",
      "3  Alabama 2020-01-25          0       0         NaN    NaN           NaN\n",
      "4  Alabama 2020-01-26          0       0         NaN    NaN           NaN \n",
      "          state       date  confirmed  deaths  population     fully  \\\n",
      "34392  Wyoming 2021-10-27     101912    1174    578759.0  252966.0   \n",
      "34393  Wyoming 2021-10-28     102403    1174    578759.0  253414.0   \n",
      "34394  Wyoming 2021-10-29     102926    1174    578759.0  253866.0   \n",
      "34395  Wyoming 2021-10-30     102926    1174    578759.0  253968.0   \n",
      "34396  Wyoming 2021-10-31     102926    1174    578759.0  254028.0   \n",
      "\n",
      "       at_least_one  \n",
      "34392      292654.0  \n",
      "34393      293260.0  \n",
      "34394      293892.0  \n",
      "34395      294093.0  \n",
      "34396      294284.0  \n"
     ]
    }
   ],
   "source": [
    "# 1) Join by state (Pop + Vacc)\n",
    "vacc = pd.merge(pop, vacc, how='left', on=['state'])\n",
    "\n",
    "# 2) Join by state & date\n",
    "df = pd.merge(covid, vacc, how='left', on=['state', 'date'])\n",
    "print(df.head(), '\\n', df.tail())"
   ]
  },
  {
   "cell_type": "code",
   "execution_count": 10,
   "metadata": {},
   "outputs": [
    {
     "data": {
      "text/html": [
       "<div>\n",
       "<style scoped>\n",
       "    .dataframe tbody tr th:only-of-type {\n",
       "        vertical-align: middle;\n",
       "    }\n",
       "\n",
       "    .dataframe tbody tr th {\n",
       "        vertical-align: top;\n",
       "    }\n",
       "\n",
       "    .dataframe thead th {\n",
       "        text-align: right;\n",
       "    }\n",
       "</style>\n",
       "<table border=\"1\" class=\"dataframe\">\n",
       "  <thead>\n",
       "    <tr style=\"text-align: right;\">\n",
       "      <th></th>\n",
       "      <th>state</th>\n",
       "      <th>date</th>\n",
       "      <th>confirmed</th>\n",
       "      <th>deaths</th>\n",
       "      <th>population</th>\n",
       "      <th>fully</th>\n",
       "      <th>at_least_one</th>\n",
       "    </tr>\n",
       "  </thead>\n",
       "  <tbody>\n",
       "    <tr>\n",
       "      <th>0</th>\n",
       "      <td>Alabama</td>\n",
       "      <td>2020-01-22</td>\n",
       "      <td>0</td>\n",
       "      <td>0</td>\n",
       "      <td>NaN</td>\n",
       "      <td>NaN</td>\n",
       "      <td>NaN</td>\n",
       "    </tr>\n",
       "    <tr>\n",
       "      <th>1</th>\n",
       "      <td>Alabama</td>\n",
       "      <td>2020-01-23</td>\n",
       "      <td>0</td>\n",
       "      <td>0</td>\n",
       "      <td>NaN</td>\n",
       "      <td>NaN</td>\n",
       "      <td>NaN</td>\n",
       "    </tr>\n",
       "    <tr>\n",
       "      <th>2</th>\n",
       "      <td>Alabama</td>\n",
       "      <td>2020-01-24</td>\n",
       "      <td>0</td>\n",
       "      <td>0</td>\n",
       "      <td>NaN</td>\n",
       "      <td>NaN</td>\n",
       "      <td>NaN</td>\n",
       "    </tr>\n",
       "    <tr>\n",
       "      <th>3</th>\n",
       "      <td>Alabama</td>\n",
       "      <td>2020-01-25</td>\n",
       "      <td>0</td>\n",
       "      <td>0</td>\n",
       "      <td>NaN</td>\n",
       "      <td>NaN</td>\n",
       "      <td>NaN</td>\n",
       "    </tr>\n",
       "    <tr>\n",
       "      <th>4</th>\n",
       "      <td>Alabama</td>\n",
       "      <td>2020-01-26</td>\n",
       "      <td>0</td>\n",
       "      <td>0</td>\n",
       "      <td>NaN</td>\n",
       "      <td>NaN</td>\n",
       "      <td>NaN</td>\n",
       "    </tr>\n",
       "  </tbody>\n",
       "</table>\n",
       "</div>"
      ],
      "text/plain": [
       "     state       date  confirmed  deaths  population  fully  at_least_one\n",
       "0  Alabama 2020-01-22          0       0         NaN    NaN           NaN\n",
       "1  Alabama 2020-01-23          0       0         NaN    NaN           NaN\n",
       "2  Alabama 2020-01-24          0       0         NaN    NaN           NaN\n",
       "3  Alabama 2020-01-25          0       0         NaN    NaN           NaN\n",
       "4  Alabama 2020-01-26          0       0         NaN    NaN           NaN"
      ]
     },
     "execution_count": 10,
     "metadata": {},
     "output_type": "execute_result"
    }
   ],
   "source": [
    "df.head()"
   ]
  },
  {
   "cell_type": "code",
   "execution_count": 11,
   "metadata": {},
   "outputs": [
    {
     "data": {
      "text/html": [
       "<div>\n",
       "<style scoped>\n",
       "    .dataframe tbody tr th:only-of-type {\n",
       "        vertical-align: middle;\n",
       "    }\n",
       "\n",
       "    .dataframe tbody tr th {\n",
       "        vertical-align: top;\n",
       "    }\n",
       "\n",
       "    .dataframe thead th {\n",
       "        text-align: right;\n",
       "    }\n",
       "</style>\n",
       "<table border=\"1\" class=\"dataframe\">\n",
       "  <thead>\n",
       "    <tr style=\"text-align: right;\">\n",
       "      <th></th>\n",
       "      <th>state</th>\n",
       "      <th>date</th>\n",
       "      <th>confirmed</th>\n",
       "      <th>deaths</th>\n",
       "      <th>population</th>\n",
       "      <th>fully</th>\n",
       "      <th>at_least_one</th>\n",
       "    </tr>\n",
       "  </thead>\n",
       "  <tbody>\n",
       "    <tr>\n",
       "      <th>34392</th>\n",
       "      <td>Wyoming</td>\n",
       "      <td>2021-10-27</td>\n",
       "      <td>101912</td>\n",
       "      <td>1174</td>\n",
       "      <td>578759.0</td>\n",
       "      <td>252966.0</td>\n",
       "      <td>292654.0</td>\n",
       "    </tr>\n",
       "    <tr>\n",
       "      <th>34393</th>\n",
       "      <td>Wyoming</td>\n",
       "      <td>2021-10-28</td>\n",
       "      <td>102403</td>\n",
       "      <td>1174</td>\n",
       "      <td>578759.0</td>\n",
       "      <td>253414.0</td>\n",
       "      <td>293260.0</td>\n",
       "    </tr>\n",
       "    <tr>\n",
       "      <th>34394</th>\n",
       "      <td>Wyoming</td>\n",
       "      <td>2021-10-29</td>\n",
       "      <td>102926</td>\n",
       "      <td>1174</td>\n",
       "      <td>578759.0</td>\n",
       "      <td>253866.0</td>\n",
       "      <td>293892.0</td>\n",
       "    </tr>\n",
       "    <tr>\n",
       "      <th>34395</th>\n",
       "      <td>Wyoming</td>\n",
       "      <td>2021-10-30</td>\n",
       "      <td>102926</td>\n",
       "      <td>1174</td>\n",
       "      <td>578759.0</td>\n",
       "      <td>253968.0</td>\n",
       "      <td>294093.0</td>\n",
       "    </tr>\n",
       "    <tr>\n",
       "      <th>34396</th>\n",
       "      <td>Wyoming</td>\n",
       "      <td>2021-10-31</td>\n",
       "      <td>102926</td>\n",
       "      <td>1174</td>\n",
       "      <td>578759.0</td>\n",
       "      <td>254028.0</td>\n",
       "      <td>294284.0</td>\n",
       "    </tr>\n",
       "  </tbody>\n",
       "</table>\n",
       "</div>"
      ],
      "text/plain": [
       "         state       date  confirmed  deaths  population     fully  \\\n",
       "34392  Wyoming 2021-10-27     101912    1174    578759.0  252966.0   \n",
       "34393  Wyoming 2021-10-28     102403    1174    578759.0  253414.0   \n",
       "34394  Wyoming 2021-10-29     102926    1174    578759.0  253866.0   \n",
       "34395  Wyoming 2021-10-30     102926    1174    578759.0  253968.0   \n",
       "34396  Wyoming 2021-10-31     102926    1174    578759.0  254028.0   \n",
       "\n",
       "       at_least_one  \n",
       "34392      292654.0  \n",
       "34393      293260.0  \n",
       "34394      293892.0  \n",
       "34395      294093.0  \n",
       "34396      294284.0  "
      ]
     },
     "execution_count": 11,
     "metadata": {},
     "output_type": "execute_result"
    }
   ],
   "source": [
    "df.tail()"
   ]
  },
  {
   "cell_type": "code",
   "execution_count": 18,
   "metadata": {},
   "outputs": [],
   "source": [
    "df.to_csv(path + 'covid_vaccine.csv', index=False)"
   ]
  },
  {
   "cell_type": "code",
   "execution_count": null,
   "metadata": {},
   "outputs": [],
   "source": [
    "### 2021-10-31 (End) ***** Update"
   ]
  }
 ],
 "metadata": {
  "kernelspec": {
   "display_name": "Python 3 (ipykernel)",
   "language": "python",
   "name": "python3"
  },
  "language_info": {
   "codemirror_mode": {
    "name": "ipython",
    "version": 3
   },
   "file_extension": ".py",
   "mimetype": "text/x-python",
   "name": "python",
   "nbconvert_exporter": "python",
   "pygments_lexer": "ipython3",
   "version": "3.7.10"
  }
 },
 "nbformat": 4,
 "nbformat_minor": 4
}
