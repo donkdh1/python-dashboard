{
 "cells": [
  {
   "cell_type": "markdown",
   "id": "cb180f18",
   "metadata": {},
   "source": [
    "## Call Libraries"
   ]
  },
  {
   "cell_type": "code",
   "execution_count": 2,
   "id": "687cd5d9",
   "metadata": {},
   "outputs": [],
   "source": [
    "import pandas as pd\n",
    "import numpy as np\n",
    "import datetime"
   ]
  },
  {
   "cell_type": "code",
   "execution_count": 3,
   "id": "4052f1d2",
   "metadata": {},
   "outputs": [],
   "source": [
    "# for visualization\n",
    "import plotly.graph_objects as go\n",
    "from plotly.subplots import make_subplots"
   ]
  },
  {
   "cell_type": "code",
   "execution_count": 5,
   "id": "7de1f286",
   "metadata": {},
   "outputs": [],
   "source": [
    "# for the dashboard\n",
    "import dash\n",
    "from dash import dcc\n",
    "from dash import html\n",
    "from dash.dependencies import Input, Output, State"
   ]
  },
  {
   "cell_type": "markdown",
   "id": "0da6dc04",
   "metadata": {},
   "source": [
    "## Call the Data"
   ]
  },
  {
   "cell_type": "code",
   "execution_count": 6,
   "id": "452bc5eb",
   "metadata": {},
   "outputs": [],
   "source": [
    "# Path of the data's location\n",
    "path = 'data/'"
   ]
  },
  {
   "cell_type": "code",
   "execution_count": 7,
   "id": "fd4b69b1",
   "metadata": {},
   "outputs": [
    {
     "data": {
      "text/html": [
       "<div>\n",
       "<style scoped>\n",
       "    .dataframe tbody tr th:only-of-type {\n",
       "        vertical-align: middle;\n",
       "    }\n",
       "\n",
       "    .dataframe tbody tr th {\n",
       "        vertical-align: top;\n",
       "    }\n",
       "\n",
       "    .dataframe thead th {\n",
       "        text-align: right;\n",
       "    }\n",
       "</style>\n",
       "<table border=\"1\" class=\"dataframe\">\n",
       "  <thead>\n",
       "    <tr style=\"text-align: right;\">\n",
       "      <th></th>\n",
       "      <th>state</th>\n",
       "      <th>date</th>\n",
       "      <th>confirmed</th>\n",
       "      <th>deaths</th>\n",
       "      <th>population</th>\n",
       "      <th>fully</th>\n",
       "      <th>at_least_one</th>\n",
       "    </tr>\n",
       "  </thead>\n",
       "  <tbody>\n",
       "    <tr>\n",
       "      <th>0</th>\n",
       "      <td>Alabama</td>\n",
       "      <td>2020-01-22</td>\n",
       "      <td>0</td>\n",
       "      <td>0</td>\n",
       "      <td>NaN</td>\n",
       "      <td>NaN</td>\n",
       "      <td>NaN</td>\n",
       "    </tr>\n",
       "    <tr>\n",
       "      <th>1</th>\n",
       "      <td>Alabama</td>\n",
       "      <td>2020-01-23</td>\n",
       "      <td>0</td>\n",
       "      <td>0</td>\n",
       "      <td>NaN</td>\n",
       "      <td>NaN</td>\n",
       "      <td>NaN</td>\n",
       "    </tr>\n",
       "    <tr>\n",
       "      <th>2</th>\n",
       "      <td>Alabama</td>\n",
       "      <td>2020-01-24</td>\n",
       "      <td>0</td>\n",
       "      <td>0</td>\n",
       "      <td>NaN</td>\n",
       "      <td>NaN</td>\n",
       "      <td>NaN</td>\n",
       "    </tr>\n",
       "    <tr>\n",
       "      <th>3</th>\n",
       "      <td>Alabama</td>\n",
       "      <td>2020-01-25</td>\n",
       "      <td>0</td>\n",
       "      <td>0</td>\n",
       "      <td>NaN</td>\n",
       "      <td>NaN</td>\n",
       "      <td>NaN</td>\n",
       "    </tr>\n",
       "    <tr>\n",
       "      <th>4</th>\n",
       "      <td>Alabama</td>\n",
       "      <td>2020-01-26</td>\n",
       "      <td>0</td>\n",
       "      <td>0</td>\n",
       "      <td>NaN</td>\n",
       "      <td>NaN</td>\n",
       "      <td>NaN</td>\n",
       "    </tr>\n",
       "  </tbody>\n",
       "</table>\n",
       "</div>"
      ],
      "text/plain": [
       "     state        date  confirmed  deaths  population  fully  at_least_one\n",
       "0  Alabama  2020-01-22          0       0         NaN    NaN           NaN\n",
       "1  Alabama  2020-01-23          0       0         NaN    NaN           NaN\n",
       "2  Alabama  2020-01-24          0       0         NaN    NaN           NaN\n",
       "3  Alabama  2020-01-25          0       0         NaN    NaN           NaN\n",
       "4  Alabama  2020-01-26          0       0         NaN    NaN           NaN"
      ]
     },
     "execution_count": 7,
     "metadata": {},
     "output_type": "execute_result"
    }
   ],
   "source": [
    "# Call the data\n",
    "df = pd.read_csv(path + 'covid_vaccine.csv')\n",
    "df.head()"
   ]
  },
  {
   "cell_type": "markdown",
   "id": "fb888b10",
   "metadata": {},
   "source": [
    "## Button Setting"
   ]
  },
  {
   "cell_type": "code",
   "execution_count": 8,
   "id": "6dc8138a",
   "metadata": {},
   "outputs": [],
   "source": [
    "button = ['confirmed', 'deaths']\n",
    "states = df['state'].unique()"
   ]
  },
  {
   "cell_type": "markdown",
   "id": "1dbb8d73",
   "metadata": {},
   "source": [
    "## App & Layout"
   ]
  },
  {
   "cell_type": "code",
   "execution_count": 9,
   "id": "0764c619",
   "metadata": {},
   "outputs": [],
   "source": [
    "# App structure\n",
    "app = dash.Dash(__name__)\n",
    "app.title = ('Dashboard | COVID-19 & Vaccines')\n",
    "server = app.server\n",
    "\n",
    "# App layout\n",
    "app.layout = html.Div([\n",
    "    # Title\n",
    "    html.Div([html.H2('Trends in COVID-19 Cases and Vaccination in The United States', style={'textAlign': 'center'})]),\n",
    "    \n",
    "    # Dropdown - States\n",
    "    html.Div([dcc.Dropdown(id = 'id_state',options=[{'label':i, 'value':i} for i in states],value = states[0])], style={'width':'200px'}),\n",
    "    html.Br(),\n",
    "    \n",
    "    # Button - Confirmed, Deaths\n",
    "    html.Div([dcc.RadioItems(id='id_covid', options=[{'label': i, 'value': i} for i in button], value = button[0])]),\n",
    "    html.Br(),\n",
    "    \n",
    "    # Chart\n",
    "    html.Div([dcc.Graph(id = 'graph', style={'height':650})]\n",
    "            , style={'width': '95%', 'margin-left': 'auto', 'margin-right': 0})\n",
    "])"
   ]
  },
  {
   "cell_type": "markdown",
   "id": "62984a16",
   "metadata": {},
   "source": [
    "## Graphs"
   ]
  },
  {
   "cell_type": "code",
   "execution_count": 10,
   "id": "1be07946",
   "metadata": {},
   "outputs": [],
   "source": [
    "@app.callback(Output('graph', 'figure'), \n",
    "              [Input('id_state', 'value'),\n",
    "               Input('id_covid', 'value')])\n",
    "\n",
    "# Define by input order = (1) state, (2) covid\n",
    "def update_graph(stat, cov):\n",
    "    \n",
    "    # secondary y-axis setting,\n",
    "    fig = make_subplots(specs=[[{\"secondary_y\": True}]])\n",
    "\n",
    "    \n",
    "    # text - legend name & yaxis label\n",
    "    if cov == 'confirmed':\n",
    "        legend = 'Confirmed'\n",
    "        ytitle = '<b>Number of Confirmed Cases</b>'\n",
    "    else:\n",
    "        legend = 'Deaths'\n",
    "        ytitle = '<b>Number of Deaths Cases</b>'\n",
    "    \n",
    "    \n",
    "    # Selecting the data\n",
    "    df1 = df[df['state'] == stat]\n",
    "    \n",
    "    # primary Y : Covid-19\n",
    "    fig.add_trace(go.Bar(x = df1['date'],\n",
    "                         y = df1[cov],\n",
    "                         name = legend,\n",
    "                         hovertemplate = '%{y:,}',\n",
    "                         marker_color='rgb(185,185,185)'),\n",
    "                  secondary_y=False)\n",
    "        \n",
    "    fig.update_layout(go.Layout(xaxis = dict(title = 'Time (day)'),\n",
    "                                yaxis = dict(title = ytitle, showgrid = False),\n",
    "                                legend = dict(orientation='h', yanchor='top', y=1.1, traceorder='normal'),\n",
    "                                hovermode = 'x unified',\n",
    "                                plot_bgcolor='white'))\n",
    "    \n",
    "    \n",
    "    # secondary Y : Fully Vaccine %\n",
    "    fig.add_trace(go.Scatter(x = df1['date'],\n",
    "                             y = df1['fully']/df1['population']*100,\n",
    "                             name = 'Fully',\n",
    "                             hovertemplate='%{y:,.1f}%',   # one decimal place\n",
    "                             mode=\"lines\",\n",
    "                             line={'width':2.5}),\n",
    "                  secondary_y=True)\n",
    "    \n",
    "    # secondary Y : At least one Vaccine %\n",
    "    fig.add_trace(go.Scatter(x = df1['date'],\n",
    "                             y = df1['at_least_one']/df1['population']*100,\n",
    "                             name = 'At least 1',\n",
    "                             hovertemplate='%{y:,.1f}%',   # one decimal place\n",
    "                             mode=\"lines\",\n",
    "                             line={'width':2.5}),\n",
    "                  secondary_y=True)\n",
    "    \n",
    "    # secondary_y axis : title, suffix\n",
    "    fig.update_yaxes(title_text='<b>Series Complete (% of Population)</b>', \n",
    "                     ticksuffix = '%', \n",
    "                     range = [0, 100],\n",
    "                     secondary_y=True)\n",
    "\n",
    "    return fig"
   ]
  },
  {
   "cell_type": "code",
   "execution_count": null,
   "id": "7c63486f",
   "metadata": {},
   "outputs": [
    {
     "name": "stdout",
     "output_type": "stream",
     "text": [
      "Dash is running on http://127.0.0.1:8050/\n",
      "\n",
      " * Serving Flask app \"__main__\" (lazy loading)\n",
      " * Environment: production\n",
      "\u001b[31m   WARNING: This is a development server. Do not use it in a production deployment.\u001b[0m\n",
      "\u001b[2m   Use a production WSGI server instead.\u001b[0m\n",
      " * Debug mode: off\n"
     ]
    },
    {
     "name": "stderr",
     "output_type": "stream",
     "text": [
      " * Running on http://127.0.0.1:8050/ (Press CTRL+C to quit)\n",
      "127.0.0.1 - - [06/Aug/2022 14:43:21] \"GET / HTTP/1.1\" 200 -\n",
      "127.0.0.1 - - [06/Aug/2022 14:43:21] \"GET /_dash-component-suites/dash/deps/polyfill@7.v2_4_1m1653418901.12.1.min.js HTTP/1.1\" 200 -\n",
      "127.0.0.1 - - [06/Aug/2022 14:43:21] \"GET /_dash-component-suites/dash/deps/react@16.v2_4_1m1653418901.14.0.min.js HTTP/1.1\" 200 -\n",
      "127.0.0.1 - - [06/Aug/2022 14:43:21] \"GET /_dash-component-suites/dash/deps/react-dom@16.v2_4_1m1653418901.14.0.min.js HTTP/1.1\" 200 -\n",
      "127.0.0.1 - - [06/Aug/2022 14:43:21] \"GET /_dash-component-suites/dash/deps/prop-types@15.v2_4_1m1653418901.8.1.min.js HTTP/1.1\" 200 -\n",
      "127.0.0.1 - - [06/Aug/2022 14:43:21] \"GET /_dash-component-suites/dash/dash-renderer/build/dash_renderer.v2_4_1m1653418901.min.js HTTP/1.1\" 200 -\n",
      "127.0.0.1 - - [06/Aug/2022 14:43:21] \"GET /_dash-component-suites/dash/dcc/dash_core_components.v2_4_0m1653418901.js HTTP/1.1\" 200 -\n",
      "127.0.0.1 - - [06/Aug/2022 14:43:21] \"GET /_dash-component-suites/dash/dcc/dash_core_components-shared.v2_4_0m1653418901.js HTTP/1.1\" 200 -\n",
      "127.0.0.1 - - [06/Aug/2022 14:43:21] \"GET /_dash-component-suites/dash/dash_table/bundle.v5_1_2m1653418901.js HTTP/1.1\" 200 -\n",
      "127.0.0.1 - - [06/Aug/2022 14:43:21] \"GET /_dash-component-suites/dash/html/dash_html_components.v2_0_3m1653418901.min.js HTTP/1.1\" 200 -\n",
      "127.0.0.1 - - [06/Aug/2022 14:43:21] \"GET /_dash-layout HTTP/1.1\" 200 -\n",
      "127.0.0.1 - - [06/Aug/2022 14:43:21] \"GET /_dash-dependencies HTTP/1.1\" 200 -\n",
      "127.0.0.1 - - [06/Aug/2022 14:43:21] \"GET /_favicon.ico?v=2.4.1 HTTP/1.1\" 200 -\n",
      "127.0.0.1 - - [06/Aug/2022 14:43:21] \"GET /_dash-component-suites/dash/dcc/async-graph.js HTTP/1.1\" 200 -\n",
      "127.0.0.1 - - [06/Aug/2022 14:43:21] \"GET /_dash-component-suites/dash/dcc/async-dropdown.js HTTP/1.1\" 200 -\n",
      "127.0.0.1 - - [06/Aug/2022 14:43:21] \"GET /_dash-component-suites/dash/dcc/async-plotlyjs.js HTTP/1.1\" 200 -\n",
      "127.0.0.1 - - [06/Aug/2022 14:43:22] \"POST /_dash-update-component HTTP/1.1\" 200 -\n"
     ]
    }
   ],
   "source": [
    "# Run App\n",
    "if __name__=='__main__':\n",
    "    app.run_server(debug=False)"
   ]
  },
  {
   "cell_type": "code",
   "execution_count": null,
   "id": "dd5d6771",
   "metadata": {},
   "outputs": [],
   "source": []
  }
 ],
 "metadata": {
  "kernelspec": {
   "display_name": "Python 3 (ipykernel)",
   "language": "python",
   "name": "python3"
  },
  "language_info": {
   "codemirror_mode": {
    "name": "ipython",
    "version": 3
   },
   "file_extension": ".py",
   "mimetype": "text/x-python",
   "name": "python",
   "nbconvert_exporter": "python",
   "pygments_lexer": "ipython3",
   "version": "3.9.12"
  }
 },
 "nbformat": 4,
 "nbformat_minor": 5
}
