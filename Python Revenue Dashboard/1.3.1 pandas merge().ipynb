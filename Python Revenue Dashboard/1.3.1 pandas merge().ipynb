{
 "cells": [
  {
   "cell_type": "markdown",
   "id": "908ece3e",
   "metadata": {},
   "source": [
    "## Calling Libraries"
   ]
  },
  {
   "cell_type": "code",
   "execution_count": 48,
   "id": "0534cccf",
   "metadata": {},
   "outputs": [
    {
     "name": "stdout",
     "output_type": "stream",
     "text": [
      "Requirement already satisfied: pandas in c:\\users\\kim\\anaconda3\\envs\\dash\\lib\\site-packages (1.3.3)\n",
      "Requirement already satisfied: python-dateutil>=2.7.3 in c:\\users\\kim\\anaconda3\\envs\\dash\\lib\\site-packages (from pandas) (2.8.2)\n",
      "Requirement already satisfied: pytz>=2017.3 in c:\\users\\kim\\anaconda3\\envs\\dash\\lib\\site-packages (from pandas) (2021.1)\n",
      "Requirement already satisfied: numpy>=1.17.3 in c:\\users\\kim\\anaconda3\\envs\\dash\\lib\\site-packages (from pandas) (1.21.2)\n",
      "Requirement already satisfied: six>=1.5 in c:\\users\\kim\\anaconda3\\envs\\dash\\lib\\site-packages (from python-dateutil>=2.7.3->pandas) (1.16.0)\n"
     ]
    }
   ],
   "source": [
    "!pip install pandas"
   ]
  },
  {
   "cell_type": "code",
   "execution_count": 3,
   "id": "1d458c99",
   "metadata": {},
   "outputs": [],
   "source": [
    "import pandas as pd"
   ]
  },
  {
   "cell_type": "markdown",
   "id": "03dec43d",
   "metadata": {},
   "source": [
    "## Calling the Data"
   ]
  },
  {
   "cell_type": "code",
   "execution_count": 1,
   "id": "d35f11e6",
   "metadata": {},
   "outputs": [],
   "source": [
    "# Path of the data's location\n",
    "path = '../Python Revenue Dashboard/'"
   ]
  },
  {
   "cell_type": "code",
   "execution_count": 4,
   "id": "c8137217",
   "metadata": {},
   "outputs": [],
   "source": [
    "# Revenue data\n",
    "revenue = pd.read_csv(path + 'Revenue data/Revenue.csv')"
   ]
  },
  {
   "cell_type": "code",
   "execution_count": 5,
   "id": "c3339eae",
   "metadata": {},
   "outputs": [
    {
     "data": {
      "text/html": [
       "<div>\n",
       "<style scoped>\n",
       "    .dataframe tbody tr th:only-of-type {\n",
       "        vertical-align: middle;\n",
       "    }\n",
       "\n",
       "    .dataframe tbody tr th {\n",
       "        vertical-align: top;\n",
       "    }\n",
       "\n",
       "    .dataframe thead th {\n",
       "        text-align: right;\n",
       "    }\n",
       "</style>\n",
       "<table border=\"1\" class=\"dataframe\">\n",
       "  <thead>\n",
       "    <tr style=\"text-align: right;\">\n",
       "      <th></th>\n",
       "      <th>OrderID</th>\n",
       "      <th>OrderDate</th>\n",
       "      <th>Gender</th>\n",
       "      <th>AgeGroup</th>\n",
       "      <th>Channel</th>\n",
       "      <th>ShipDate</th>\n",
       "      <th>ItemCode</th>\n",
       "      <th>MapCode</th>\n",
       "      <th>Quantity</th>\n",
       "      <th>Revenue</th>\n",
       "      <th>Cost</th>\n",
       "    </tr>\n",
       "  </thead>\n",
       "  <tbody>\n",
       "    <tr>\n",
       "      <th>0</th>\n",
       "      <td>100013196</td>\n",
       "      <td>2020-03-20</td>\n",
       "      <td>Female</td>\n",
       "      <td>30s</td>\n",
       "      <td>Online</td>\n",
       "      <td>2020-03-22</td>\n",
       "      <td>D10002</td>\n",
       "      <td>34</td>\n",
       "      <td>46</td>\n",
       "      <td>35576.6</td>\n",
       "      <td>29647.155</td>\n",
       "    </tr>\n",
       "    <tr>\n",
       "      <th>1</th>\n",
       "      <td>100061261</td>\n",
       "      <td>2018-06-20</td>\n",
       "      <td>Female</td>\n",
       "      <td>50s</td>\n",
       "      <td>Offline</td>\n",
       "      <td>NaN</td>\n",
       "      <td>D10001</td>\n",
       "      <td>5</td>\n",
       "      <td>69</td>\n",
       "      <td>10222.8</td>\n",
       "      <td>8518.990</td>\n",
       "    </tr>\n",
       "  </tbody>\n",
       "</table>\n",
       "</div>"
      ],
      "text/plain": [
       "     OrderID   OrderDate  Gender AgeGroup  Channel    ShipDate ItemCode  \\\n",
       "0  100013196  2020-03-20  Female      30s   Online  2020-03-22   D10002   \n",
       "1  100061261  2018-06-20  Female      50s  Offline         NaN   D10001   \n",
       "\n",
       "   MapCode  Quantity  Revenue       Cost  \n",
       "0       34        46  35576.6  29647.155  \n",
       "1        5        69  10222.8   8518.990  "
      ]
     },
     "execution_count": 5,
     "metadata": {},
     "output_type": "execute_result"
    }
   ],
   "source": [
    "revenue.head(2)"
   ]
  },
  {
   "cell_type": "code",
   "execution_count": 9,
   "id": "9dfa4e1b",
   "metadata": {},
   "outputs": [
    {
     "name": "stdout",
     "output_type": "stream",
     "text": [
      "<class 'pandas.core.frame.DataFrame'>\n",
      "RangeIndex: 27657 entries, 0 to 27656\n",
      "Data columns (total 11 columns):\n",
      " #   Column     Non-Null Count  Dtype  \n",
      "---  ------     --------------  -----  \n",
      " 0   OrderID    27657 non-null  int64  \n",
      " 1   OrderDate  27657 non-null  object \n",
      " 2   Gender     27657 non-null  object \n",
      " 3   AgeGroup   27657 non-null  object \n",
      " 4   Channel    27657 non-null  object \n",
      " 5   ShipDate   19163 non-null  object \n",
      " 6   ItemCode   27657 non-null  object \n",
      " 7   MapCode    27657 non-null  int64  \n",
      " 8   Quantity   27657 non-null  int64  \n",
      " 9   Revenue    27657 non-null  float64\n",
      " 10  Cost       27657 non-null  float64\n",
      "dtypes: float64(2), int64(3), object(6)\n",
      "memory usage: 2.3+ MB\n"
     ]
    }
   ],
   "source": [
    "revenue.info()"
   ]
  },
  {
   "cell_type": "code",
   "execution_count": 10,
   "id": "a9897e5d",
   "metadata": {},
   "outputs": [],
   "source": [
    "# Item data\n",
    "item = pd.read_csv(path + 'Revenue data/Item.csv')"
   ]
  },
  {
   "cell_type": "code",
   "execution_count": 11,
   "id": "9cbc4922",
   "metadata": {},
   "outputs": [
    {
     "data": {
      "text/html": [
       "<div>\n",
       "<style scoped>\n",
       "    .dataframe tbody tr th:only-of-type {\n",
       "        vertical-align: middle;\n",
       "    }\n",
       "\n",
       "    .dataframe tbody tr th {\n",
       "        vertical-align: top;\n",
       "    }\n",
       "\n",
       "    .dataframe thead th {\n",
       "        text-align: right;\n",
       "    }\n",
       "</style>\n",
       "<table border=\"1\" class=\"dataframe\">\n",
       "  <thead>\n",
       "    <tr style=\"text-align: right;\">\n",
       "      <th></th>\n",
       "      <th>ItemNo</th>\n",
       "      <th>Category</th>\n",
       "      <th>Item Type</th>\n",
       "    </tr>\n",
       "  </thead>\n",
       "  <tbody>\n",
       "    <tr>\n",
       "      <th>0</th>\n",
       "      <td>A10001</td>\n",
       "      <td>Beauty &amp; Health</td>\n",
       "      <td>Cosmetics</td>\n",
       "    </tr>\n",
       "    <tr>\n",
       "      <th>1</th>\n",
       "      <td>A10002</td>\n",
       "      <td>Beauty &amp; Health</td>\n",
       "      <td>Personal Care</td>\n",
       "    </tr>\n",
       "  </tbody>\n",
       "</table>\n",
       "</div>"
      ],
      "text/plain": [
       "   ItemNo         Category      Item Type\n",
       "0  A10001  Beauty & Health      Cosmetics\n",
       "1  A10002  Beauty & Health  Personal Care"
      ]
     },
     "execution_count": 11,
     "metadata": {},
     "output_type": "execute_result"
    }
   ],
   "source": [
    "item.head(2)"
   ]
  },
  {
   "cell_type": "code",
   "execution_count": 12,
   "id": "d0918750",
   "metadata": {},
   "outputs": [],
   "source": [
    "# Country data\n",
    "country = pd.read_csv(path + 'Revenue data/Country.csv')"
   ]
  },
  {
   "cell_type": "code",
   "execution_count": 13,
   "id": "61fb4337",
   "metadata": {},
   "outputs": [
    {
     "data": {
      "text/html": [
       "<div>\n",
       "<style scoped>\n",
       "    .dataframe tbody tr th:only-of-type {\n",
       "        vertical-align: middle;\n",
       "    }\n",
       "\n",
       "    .dataframe tbody tr th {\n",
       "        vertical-align: top;\n",
       "    }\n",
       "\n",
       "    .dataframe thead th {\n",
       "        text-align: right;\n",
       "    }\n",
       "</style>\n",
       "<table border=\"1\" class=\"dataframe\">\n",
       "  <thead>\n",
       "    <tr style=\"text-align: right;\">\n",
       "      <th></th>\n",
       "      <th>Region</th>\n",
       "      <th>Country Code</th>\n",
       "      <th>Country</th>\n",
       "      <th>Code2</th>\n",
       "      <th>Code3</th>\n",
       "      <th>Latitude</th>\n",
       "      <th>Longitude</th>\n",
       "    </tr>\n",
       "  </thead>\n",
       "  <tbody>\n",
       "    <tr>\n",
       "      <th>0</th>\n",
       "      <td>Oceania</td>\n",
       "      <td>1</td>\n",
       "      <td>Australia</td>\n",
       "      <td>AU</td>\n",
       "      <td>AUS</td>\n",
       "      <td>-35.306944</td>\n",
       "      <td>149.124297</td>\n",
       "    </tr>\n",
       "    <tr>\n",
       "      <th>1</th>\n",
       "      <td>Europe</td>\n",
       "      <td>2</td>\n",
       "      <td>Austria</td>\n",
       "      <td>AT</td>\n",
       "      <td>AUT</td>\n",
       "      <td>48.209206</td>\n",
       "      <td>16.372778</td>\n",
       "    </tr>\n",
       "    <tr>\n",
       "      <th>2</th>\n",
       "      <td>Europe</td>\n",
       "      <td>3</td>\n",
       "      <td>Belgium</td>\n",
       "      <td>BE</td>\n",
       "      <td>BEL</td>\n",
       "      <td>50.503887</td>\n",
       "      <td>4.469936</td>\n",
       "    </tr>\n",
       "  </tbody>\n",
       "</table>\n",
       "</div>"
      ],
      "text/plain": [
       "    Region  Country Code    Country Code2 Code3   Latitude   Longitude\n",
       "0  Oceania             1  Australia    AU   AUS -35.306944  149.124297\n",
       "1   Europe             2    Austria    AT   AUT  48.209206   16.372778\n",
       "2   Europe             3    Belgium    BE   BEL  50.503887    4.469936"
      ]
     },
     "execution_count": 13,
     "metadata": {},
     "output_type": "execute_result"
    }
   ],
   "source": [
    "country.head(3)"
   ]
  },
  {
   "cell_type": "markdown",
   "id": "5b35049d",
   "metadata": {},
   "source": [
    "## Merge 1. Revenue & Item "
   ]
  },
  {
   "cell_type": "code",
   "execution_count": 14,
   "id": "8508b03d",
   "metadata": {},
   "outputs": [],
   "source": [
    "# Copy revenue data\n",
    "df = revenue.copy()"
   ]
  },
  {
   "cell_type": "code",
   "execution_count": 15,
   "id": "d93e4810",
   "metadata": {},
   "outputs": [
    {
     "data": {
      "text/plain": [
       "(27657, 11)"
      ]
     },
     "execution_count": 15,
     "metadata": {},
     "output_type": "execute_result"
    }
   ],
   "source": [
    "# check data rows & columns\n",
    "df.shape"
   ]
  },
  {
   "cell_type": "code",
   "execution_count": 16,
   "id": "49545707",
   "metadata": {},
   "outputs": [],
   "source": [
    "# pd.merge(left, right,               # Object name of the DataFram that will be merged\n",
    "#          how = 'inner',             # inner (default), left, rigth, outer\n",
    "#          on = None,                 # The standard Key variable\n",
    "#          left_on = None,            # Utilize the left DataFrame's variable as a key\n",
    "#          right_on = None,           # Utilize the right DataFrame's variable as a key\n",
    "#          left_index = False,        # If True, left DataFrame's index will be used as merge Key\n",
    "#          right_index = False,       # If True, right DataFrame's index will be used as merge Key\n",
    "#          sort = True,               # Arrange the merged DataFrame by the join key\n",
    "#          suffixes = ('_x', '_y'),   # Indicate identical names by giving prefixes (defaults to '_x', '_y')\n",
    "#          copy = True,               # Copy the DataFrame that will be merged\n",
    "#          indicator = False)         # After merging, add the information variable that shows the source of the data frame"
   ]
  },
  {
   "cell_type": "code",
   "execution_count": 17,
   "id": "f8996d2a",
   "metadata": {},
   "outputs": [],
   "source": [
    "# Key: Revenue(ItemCode), Item(ItemNo)\n",
    "# df = df.merge(item, how='left', left_on='ItemCode', right_on='ItemNo')\n",
    "df = df.merge(item.rename(columns={'ItemNo':'ItemCode'}), on='ItemCode', how='left')"
   ]
  },
  {
   "cell_type": "code",
   "execution_count": 18,
   "id": "01aaa488",
   "metadata": {},
   "outputs": [
    {
     "data": {
      "text/plain": [
       "(27657, 13)"
      ]
     },
     "execution_count": 18,
     "metadata": {},
     "output_type": "execute_result"
    }
   ],
   "source": [
    "df.shape"
   ]
  },
  {
   "cell_type": "markdown",
   "id": "946d0da6",
   "metadata": {},
   "source": [
    "## Merge 2. (Revenue & Item) & Country "
   ]
  },
  {
   "cell_type": "code",
   "execution_count": 19,
   "id": "7815987c",
   "metadata": {},
   "outputs": [],
   "source": [
    "# Key: df(MapCode), Country(Country Code)\n",
    "# df = df.merge(country, how='left', left_on='MapCode', right_on='Country Code')\n",
    "df = df.merge(country.rename(columns={'Country Code':'MapCode'}), on='MapCode', how='left')"
   ]
  },
  {
   "cell_type": "code",
   "execution_count": 20,
   "id": "da94734c",
   "metadata": {},
   "outputs": [
    {
     "data": {
      "text/plain": [
       "(27657, 19)"
      ]
     },
     "execution_count": 20,
     "metadata": {},
     "output_type": "execute_result"
    }
   ],
   "source": [
    "df.shape"
   ]
  },
  {
   "cell_type": "code",
   "execution_count": 21,
   "id": "81b1041e",
   "metadata": {},
   "outputs": [
    {
     "data": {
      "text/html": [
       "<div>\n",
       "<style scoped>\n",
       "    .dataframe tbody tr th:only-of-type {\n",
       "        vertical-align: middle;\n",
       "    }\n",
       "\n",
       "    .dataframe tbody tr th {\n",
       "        vertical-align: top;\n",
       "    }\n",
       "\n",
       "    .dataframe thead th {\n",
       "        text-align: right;\n",
       "    }\n",
       "</style>\n",
       "<table border=\"1\" class=\"dataframe\">\n",
       "  <thead>\n",
       "    <tr style=\"text-align: right;\">\n",
       "      <th></th>\n",
       "      <th>OrderID</th>\n",
       "      <th>OrderDate</th>\n",
       "      <th>Gender</th>\n",
       "      <th>AgeGroup</th>\n",
       "      <th>Channel</th>\n",
       "      <th>ShipDate</th>\n",
       "      <th>ItemCode</th>\n",
       "      <th>MapCode</th>\n",
       "      <th>Quantity</th>\n",
       "      <th>Revenue</th>\n",
       "      <th>Cost</th>\n",
       "      <th>Category</th>\n",
       "      <th>Item Type</th>\n",
       "      <th>Region</th>\n",
       "      <th>Country</th>\n",
       "      <th>Code2</th>\n",
       "      <th>Code3</th>\n",
       "      <th>Latitude</th>\n",
       "      <th>Longitude</th>\n",
       "    </tr>\n",
       "  </thead>\n",
       "  <tbody>\n",
       "    <tr>\n",
       "      <th>0</th>\n",
       "      <td>100013196</td>\n",
       "      <td>2020-03-20</td>\n",
       "      <td>Female</td>\n",
       "      <td>30s</td>\n",
       "      <td>Online</td>\n",
       "      <td>2020-03-22</td>\n",
       "      <td>D10002</td>\n",
       "      <td>34</td>\n",
       "      <td>46</td>\n",
       "      <td>35576.6</td>\n",
       "      <td>29647.155</td>\n",
       "      <td>Office</td>\n",
       "      <td>Office Supplies</td>\n",
       "      <td>Asia</td>\n",
       "      <td>Taiwan</td>\n",
       "      <td>TW</td>\n",
       "      <td>TWN</td>\n",
       "      <td>23.697810</td>\n",
       "      <td>120.960515</td>\n",
       "    </tr>\n",
       "    <tr>\n",
       "      <th>1</th>\n",
       "      <td>100061261</td>\n",
       "      <td>2018-06-20</td>\n",
       "      <td>Female</td>\n",
       "      <td>50s</td>\n",
       "      <td>Offline</td>\n",
       "      <td>NaN</td>\n",
       "      <td>D10001</td>\n",
       "      <td>5</td>\n",
       "      <td>69</td>\n",
       "      <td>10222.8</td>\n",
       "      <td>8518.990</td>\n",
       "      <td>Home</td>\n",
       "      <td>Household</td>\n",
       "      <td>Asia</td>\n",
       "      <td>China</td>\n",
       "      <td>CN</td>\n",
       "      <td>CHN</td>\n",
       "      <td>35.861660</td>\n",
       "      <td>104.195397</td>\n",
       "    </tr>\n",
       "    <tr>\n",
       "      <th>2</th>\n",
       "      <td>100071990</td>\n",
       "      <td>2020-06-20</td>\n",
       "      <td>Female</td>\n",
       "      <td>20s</td>\n",
       "      <td>Online</td>\n",
       "      <td>2020-06-22</td>\n",
       "      <td>D10001</td>\n",
       "      <td>3</td>\n",
       "      <td>53</td>\n",
       "      <td>31731.5</td>\n",
       "      <td>26442.930</td>\n",
       "      <td>Home</td>\n",
       "      <td>Household</td>\n",
       "      <td>Europe</td>\n",
       "      <td>Belgium</td>\n",
       "      <td>BE</td>\n",
       "      <td>BEL</td>\n",
       "      <td>50.503887</td>\n",
       "      <td>4.469936</td>\n",
       "    </tr>\n",
       "  </tbody>\n",
       "</table>\n",
       "</div>"
      ],
      "text/plain": [
       "     OrderID   OrderDate  Gender AgeGroup  Channel    ShipDate ItemCode  \\\n",
       "0  100013196  2020-03-20  Female      30s   Online  2020-03-22   D10002   \n",
       "1  100061261  2018-06-20  Female      50s  Offline         NaN   D10001   \n",
       "2  100071990  2020-06-20  Female      20s   Online  2020-06-22   D10001   \n",
       "\n",
       "   MapCode  Quantity  Revenue       Cost Category        Item Type  Region  \\\n",
       "0       34        46  35576.6  29647.155   Office  Office Supplies    Asia   \n",
       "1        5        69  10222.8   8518.990     Home        Household    Asia   \n",
       "2        3        53  31731.5  26442.930     Home        Household  Europe   \n",
       "\n",
       "   Country Code2 Code3   Latitude   Longitude  \n",
       "0   Taiwan    TW   TWN  23.697810  120.960515  \n",
       "1    China    CN   CHN  35.861660  104.195397  \n",
       "2  Belgium    BE   BEL  50.503887    4.469936  "
      ]
     },
     "execution_count": 21,
     "metadata": {},
     "output_type": "execute_result"
    }
   ],
   "source": [
    "df.head(3)"
   ]
  },
  {
   "cell_type": "markdown",
   "id": "777b137a",
   "metadata": {},
   "source": [
    "##  Exporting as a CSV File"
   ]
  },
  {
   "cell_type": "code",
   "execution_count": 22,
   "id": "05224c9b",
   "metadata": {},
   "outputs": [],
   "source": [
    "# Exporting as a csv file\n",
    "df.to_csv('Revenue data/Data.csv', index=None)"
   ]
  },
  {
   "cell_type": "code",
   "execution_count": 23,
   "id": "754ae5d4",
   "metadata": {},
   "outputs": [
    {
     "data": {
      "text/html": [
       "<div>\n",
       "<style scoped>\n",
       "    .dataframe tbody tr th:only-of-type {\n",
       "        vertical-align: middle;\n",
       "    }\n",
       "\n",
       "    .dataframe tbody tr th {\n",
       "        vertical-align: top;\n",
       "    }\n",
       "\n",
       "    .dataframe thead th {\n",
       "        text-align: right;\n",
       "    }\n",
       "</style>\n",
       "<table border=\"1\" class=\"dataframe\">\n",
       "  <thead>\n",
       "    <tr style=\"text-align: right;\">\n",
       "      <th></th>\n",
       "      <th>OrderID</th>\n",
       "      <th>OrderDate</th>\n",
       "      <th>Gender</th>\n",
       "      <th>AgeGroup</th>\n",
       "      <th>Channel</th>\n",
       "      <th>ShipDate</th>\n",
       "      <th>ItemCode</th>\n",
       "      <th>MapCode</th>\n",
       "      <th>Quantity</th>\n",
       "      <th>Revenue</th>\n",
       "      <th>Cost</th>\n",
       "    </tr>\n",
       "  </thead>\n",
       "  <tbody>\n",
       "    <tr>\n",
       "      <th>0</th>\n",
       "      <td>100013196</td>\n",
       "      <td>2020-03-20</td>\n",
       "      <td>Female</td>\n",
       "      <td>30s</td>\n",
       "      <td>Online</td>\n",
       "      <td>2020-03-22</td>\n",
       "      <td>D10002</td>\n",
       "      <td>34</td>\n",
       "      <td>46</td>\n",
       "      <td>35576.6</td>\n",
       "      <td>29647.155</td>\n",
       "    </tr>\n",
       "    <tr>\n",
       "      <th>1</th>\n",
       "      <td>100061261</td>\n",
       "      <td>2018-06-20</td>\n",
       "      <td>Female</td>\n",
       "      <td>50s</td>\n",
       "      <td>Offline</td>\n",
       "      <td>NaN</td>\n",
       "      <td>D10001</td>\n",
       "      <td>5</td>\n",
       "      <td>69</td>\n",
       "      <td>10222.8</td>\n",
       "      <td>8518.990</td>\n",
       "    </tr>\n",
       "    <tr>\n",
       "      <th>2</th>\n",
       "      <td>100071990</td>\n",
       "      <td>2020-06-20</td>\n",
       "      <td>Female</td>\n",
       "      <td>20s</td>\n",
       "      <td>Online</td>\n",
       "      <td>2020-06-22</td>\n",
       "      <td>D10001</td>\n",
       "      <td>3</td>\n",
       "      <td>53</td>\n",
       "      <td>31731.5</td>\n",
       "      <td>26442.930</td>\n",
       "    </tr>\n",
       "  </tbody>\n",
       "</table>\n",
       "</div>"
      ],
      "text/plain": [
       "     OrderID   OrderDate  Gender AgeGroup  Channel    ShipDate ItemCode  \\\n",
       "0  100013196  2020-03-20  Female      30s   Online  2020-03-22   D10002   \n",
       "1  100061261  2018-06-20  Female      50s  Offline         NaN   D10001   \n",
       "2  100071990  2020-06-20  Female      20s   Online  2020-06-22   D10001   \n",
       "\n",
       "   MapCode  Quantity  Revenue       Cost  \n",
       "0       34        46  35576.6  29647.155  \n",
       "1        5        69  10222.8   8518.990  \n",
       "2        3        53  31731.5  26442.930  "
      ]
     },
     "execution_count": 23,
     "metadata": {},
     "output_type": "execute_result"
    }
   ],
   "source": [
    "revenue.head(3)"
   ]
  },
  {
   "cell_type": "code",
   "execution_count": 24,
   "id": "357a6deb",
   "metadata": {},
   "outputs": [
    {
     "data": {
      "text/html": [
       "<div>\n",
       "<style scoped>\n",
       "    .dataframe tbody tr th:only-of-type {\n",
       "        vertical-align: middle;\n",
       "    }\n",
       "\n",
       "    .dataframe tbody tr th {\n",
       "        vertical-align: top;\n",
       "    }\n",
       "\n",
       "    .dataframe thead th {\n",
       "        text-align: right;\n",
       "    }\n",
       "</style>\n",
       "<table border=\"1\" class=\"dataframe\">\n",
       "  <thead>\n",
       "    <tr style=\"text-align: right;\">\n",
       "      <th></th>\n",
       "      <th>ItemNo</th>\n",
       "      <th>Category</th>\n",
       "      <th>Item Type</th>\n",
       "    </tr>\n",
       "  </thead>\n",
       "  <tbody>\n",
       "    <tr>\n",
       "      <th>0</th>\n",
       "      <td>A10001</td>\n",
       "      <td>Beauty &amp; Health</td>\n",
       "      <td>Cosmetics</td>\n",
       "    </tr>\n",
       "    <tr>\n",
       "      <th>1</th>\n",
       "      <td>A10002</td>\n",
       "      <td>Beauty &amp; Health</td>\n",
       "      <td>Personal Care</td>\n",
       "    </tr>\n",
       "    <tr>\n",
       "      <th>2</th>\n",
       "      <td>B10001</td>\n",
       "      <td>Clothes</td>\n",
       "      <td>Clothes</td>\n",
       "    </tr>\n",
       "  </tbody>\n",
       "</table>\n",
       "</div>"
      ],
      "text/plain": [
       "   ItemNo         Category      Item Type\n",
       "0  A10001  Beauty & Health      Cosmetics\n",
       "1  A10002  Beauty & Health  Personal Care\n",
       "2  B10001          Clothes        Clothes"
      ]
     },
     "execution_count": 24,
     "metadata": {},
     "output_type": "execute_result"
    }
   ],
   "source": [
    "item.head(3)"
   ]
  }
 ],
 "metadata": {
  "kernelspec": {
   "display_name": "Python 3 (ipykernel)",
   "language": "python",
   "name": "python3"
  },
  "language_info": {
   "codemirror_mode": {
    "name": "ipython",
    "version": 3
   },
   "file_extension": ".py",
   "mimetype": "text/x-python",
   "name": "python",
   "nbconvert_exporter": "python",
   "pygments_lexer": "ipython3",
   "version": "3.9.12"
  }
 },
 "nbformat": 4,
 "nbformat_minor": 5
}
