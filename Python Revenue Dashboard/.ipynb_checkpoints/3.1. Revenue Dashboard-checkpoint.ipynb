{
 "cells": [
  {
   "cell_type": "code",
   "execution_count": 2,
   "id": "8bc66b15",
   "metadata": {},
   "outputs": [
    {
     "name": "stdout",
     "output_type": "stream",
     "text": [
      "Collecting dash\n",
      "  Using cached dash-2.5.0-py3-none-any.whl (9.8 MB)\n",
      "Collecting Flask>=1.0.4\n",
      "  Using cached Flask-2.1.2-py3-none-any.whl (95 kB)\n",
      "Requirement already satisfied: plotly>=5.0.0 in /Users/donkim/opt/anaconda3/envs/dash/lib/python3.9/site-packages (from dash) (5.6.0)\n",
      "Collecting dash-html-components==2.0.0\n",
      "  Using cached dash_html_components-2.0.0-py3-none-any.whl (4.1 kB)\n",
      "Collecting dash-core-components==2.0.0\n",
      "  Using cached dash_core_components-2.0.0-py3-none-any.whl (3.8 kB)\n",
      "Collecting flask-compress\n",
      "  Using cached Flask_Compress-1.12-py3-none-any.whl (7.9 kB)\n",
      "Collecting dash-table==5.0.0\n",
      "  Using cached dash_table-5.0.0-py3-none-any.whl (3.9 kB)\n",
      "Collecting click>=8.0\n",
      "  Using cached click-8.1.3-py3-none-any.whl (96 kB)\n",
      "Collecting Werkzeug>=2.0\n",
      "  Using cached Werkzeug-2.1.2-py3-none-any.whl (224 kB)\n",
      "Collecting importlib-metadata>=3.6.0\n",
      "  Using cached importlib_metadata-4.11.4-py3-none-any.whl (18 kB)\n",
      "Requirement already satisfied: Jinja2>=3.0 in /Users/donkim/opt/anaconda3/envs/dash/lib/python3.9/site-packages (from Flask>=1.0.4->dash) (3.1.2)\n",
      "Collecting itsdangerous>=2.0\n",
      "  Using cached itsdangerous-2.1.2-py3-none-any.whl (15 kB)\n",
      "Collecting zipp>=0.5\n",
      "  Using cached zipp-3.8.0-py3-none-any.whl (5.4 kB)\n",
      "Requirement already satisfied: MarkupSafe>=2.0 in /Users/donkim/opt/anaconda3/envs/dash/lib/python3.9/site-packages (from Jinja2>=3.0->Flask>=1.0.4->dash) (2.1.1)\n",
      "Requirement already satisfied: six in /Users/donkim/opt/anaconda3/envs/dash/lib/python3.9/site-packages (from plotly>=5.0.0->dash) (1.16.0)\n",
      "Requirement already satisfied: tenacity>=6.2.0 in /Users/donkim/opt/anaconda3/envs/dash/lib/python3.9/site-packages (from plotly>=5.0.0->dash) (8.0.1)\n",
      "Collecting brotli\n",
      "  Using cached Brotli-1.0.9-cp39-cp39-macosx_10_9_x86_64.whl (421 kB)\n",
      "Installing collected packages: zipp, Werkzeug, itsdangerous, importlib-metadata, click, Flask, brotli, flask-compress, dash-table, dash-html-components, dash-core-components, dash\n",
      "Successfully installed Flask-2.1.2 Werkzeug-2.1.2 brotli-1.0.9 click-8.1.3 dash-2.5.0 dash-core-components-2.0.0 dash-html-components-2.0.0 dash-table-5.0.0 flask-compress-1.12 importlib-metadata-4.11.4 itsdangerous-2.1.2 zipp-3.8.0\n"
     ]
    }
   ],
   "source": [
    "!pip install dash"
   ]
  },
  {
   "cell_type": "markdown",
   "id": "c390cc31",
   "metadata": {},
   "source": [
    "## Call Libraries "
   ]
  },
  {
   "cell_type": "code",
   "execution_count": 4,
   "id": "d2e171b2",
   "metadata": {},
   "outputs": [],
   "source": [
    "import pandas as pd\n",
    "import numpy as np\n",
    "\n",
    "# Dash packages\n",
    "import dash\n",
    "from dash import dcc\n",
    "from dash import html\n",
    "from dash.dependencies import Input, Output, State\n",
    "import plotly.graph_objects as go\n",
    "\n",
    "from plotly.colors import DEFAULT_PLOTLY_COLORS   # chart default colors"
   ]
  },
  {
   "cell_type": "markdown",
   "id": "25f15159",
   "metadata": {},
   "source": [
    "## Call the Data "
   ]
  },
  {
   "cell_type": "code",
   "execution_count": 5,
   "id": "1a43824a",
   "metadata": {},
   "outputs": [],
   "source": [
    "# Path of the data's location\n",
    "path = '.../data/'"
   ]
  },
  {
   "cell_type": "code",
   "execution_count": 6,
   "id": "7b9d227b",
   "metadata": {},
   "outputs": [
    {
     "ename": "FileNotFoundError",
     "evalue": "[Errno 2] No such file or directory: '.../data/Revenue data/Data.csv'",
     "output_type": "error",
     "traceback": [
      "\u001b[0;31m---------------------------------------------------------------------------\u001b[0m",
      "\u001b[0;31mFileNotFoundError\u001b[0m                         Traceback (most recent call last)",
      "Input \u001b[0;32mIn [6]\u001b[0m, in \u001b[0;36m<cell line: 2>\u001b[0;34m()\u001b[0m\n\u001b[1;32m      1\u001b[0m \u001b[38;5;66;03m# Call the data\u001b[39;00m\n\u001b[0;32m----> 2\u001b[0m df \u001b[38;5;241m=\u001b[39m \u001b[43mpd\u001b[49m\u001b[38;5;241;43m.\u001b[39;49m\u001b[43mread_csv\u001b[49m\u001b[43m(\u001b[49m\u001b[43mpath\u001b[49m\u001b[43m \u001b[49m\u001b[38;5;241;43m+\u001b[39;49m\u001b[43m \u001b[49m\u001b[38;5;124;43m'\u001b[39;49m\u001b[38;5;124;43mRevenue data/Data.csv\u001b[39;49m\u001b[38;5;124;43m'\u001b[39;49m\u001b[43m)\u001b[49m\n",
      "File \u001b[0;32m~/opt/anaconda3/envs/dash/lib/python3.9/site-packages/pandas/util/_decorators.py:311\u001b[0m, in \u001b[0;36mdeprecate_nonkeyword_arguments.<locals>.decorate.<locals>.wrapper\u001b[0;34m(*args, **kwargs)\u001b[0m\n\u001b[1;32m    305\u001b[0m \u001b[38;5;28;01mif\u001b[39;00m \u001b[38;5;28mlen\u001b[39m(args) \u001b[38;5;241m>\u001b[39m num_allow_args:\n\u001b[1;32m    306\u001b[0m     warnings\u001b[38;5;241m.\u001b[39mwarn(\n\u001b[1;32m    307\u001b[0m         msg\u001b[38;5;241m.\u001b[39mformat(arguments\u001b[38;5;241m=\u001b[39marguments),\n\u001b[1;32m    308\u001b[0m         \u001b[38;5;167;01mFutureWarning\u001b[39;00m,\n\u001b[1;32m    309\u001b[0m         stacklevel\u001b[38;5;241m=\u001b[39mstacklevel,\n\u001b[1;32m    310\u001b[0m     )\n\u001b[0;32m--> 311\u001b[0m \u001b[38;5;28;01mreturn\u001b[39;00m \u001b[43mfunc\u001b[49m\u001b[43m(\u001b[49m\u001b[38;5;241;43m*\u001b[39;49m\u001b[43margs\u001b[49m\u001b[43m,\u001b[49m\u001b[43m \u001b[49m\u001b[38;5;241;43m*\u001b[39;49m\u001b[38;5;241;43m*\u001b[39;49m\u001b[43mkwargs\u001b[49m\u001b[43m)\u001b[49m\n",
      "File \u001b[0;32m~/opt/anaconda3/envs/dash/lib/python3.9/site-packages/pandas/io/parsers/readers.py:680\u001b[0m, in \u001b[0;36mread_csv\u001b[0;34m(filepath_or_buffer, sep, delimiter, header, names, index_col, usecols, squeeze, prefix, mangle_dupe_cols, dtype, engine, converters, true_values, false_values, skipinitialspace, skiprows, skipfooter, nrows, na_values, keep_default_na, na_filter, verbose, skip_blank_lines, parse_dates, infer_datetime_format, keep_date_col, date_parser, dayfirst, cache_dates, iterator, chunksize, compression, thousands, decimal, lineterminator, quotechar, quoting, doublequote, escapechar, comment, encoding, encoding_errors, dialect, error_bad_lines, warn_bad_lines, on_bad_lines, delim_whitespace, low_memory, memory_map, float_precision, storage_options)\u001b[0m\n\u001b[1;32m    665\u001b[0m kwds_defaults \u001b[38;5;241m=\u001b[39m _refine_defaults_read(\n\u001b[1;32m    666\u001b[0m     dialect,\n\u001b[1;32m    667\u001b[0m     delimiter,\n\u001b[0;32m   (...)\u001b[0m\n\u001b[1;32m    676\u001b[0m     defaults\u001b[38;5;241m=\u001b[39m{\u001b[38;5;124m\"\u001b[39m\u001b[38;5;124mdelimiter\u001b[39m\u001b[38;5;124m\"\u001b[39m: \u001b[38;5;124m\"\u001b[39m\u001b[38;5;124m,\u001b[39m\u001b[38;5;124m\"\u001b[39m},\n\u001b[1;32m    677\u001b[0m )\n\u001b[1;32m    678\u001b[0m kwds\u001b[38;5;241m.\u001b[39mupdate(kwds_defaults)\n\u001b[0;32m--> 680\u001b[0m \u001b[38;5;28;01mreturn\u001b[39;00m \u001b[43m_read\u001b[49m\u001b[43m(\u001b[49m\u001b[43mfilepath_or_buffer\u001b[49m\u001b[43m,\u001b[49m\u001b[43m \u001b[49m\u001b[43mkwds\u001b[49m\u001b[43m)\u001b[49m\n",
      "File \u001b[0;32m~/opt/anaconda3/envs/dash/lib/python3.9/site-packages/pandas/io/parsers/readers.py:575\u001b[0m, in \u001b[0;36m_read\u001b[0;34m(filepath_or_buffer, kwds)\u001b[0m\n\u001b[1;32m    572\u001b[0m _validate_names(kwds\u001b[38;5;241m.\u001b[39mget(\u001b[38;5;124m\"\u001b[39m\u001b[38;5;124mnames\u001b[39m\u001b[38;5;124m\"\u001b[39m, \u001b[38;5;28;01mNone\u001b[39;00m))\n\u001b[1;32m    574\u001b[0m \u001b[38;5;66;03m# Create the parser.\u001b[39;00m\n\u001b[0;32m--> 575\u001b[0m parser \u001b[38;5;241m=\u001b[39m \u001b[43mTextFileReader\u001b[49m\u001b[43m(\u001b[49m\u001b[43mfilepath_or_buffer\u001b[49m\u001b[43m,\u001b[49m\u001b[43m \u001b[49m\u001b[38;5;241;43m*\u001b[39;49m\u001b[38;5;241;43m*\u001b[39;49m\u001b[43mkwds\u001b[49m\u001b[43m)\u001b[49m\n\u001b[1;32m    577\u001b[0m \u001b[38;5;28;01mif\u001b[39;00m chunksize \u001b[38;5;129;01mor\u001b[39;00m iterator:\n\u001b[1;32m    578\u001b[0m     \u001b[38;5;28;01mreturn\u001b[39;00m parser\n",
      "File \u001b[0;32m~/opt/anaconda3/envs/dash/lib/python3.9/site-packages/pandas/io/parsers/readers.py:933\u001b[0m, in \u001b[0;36mTextFileReader.__init__\u001b[0;34m(self, f, engine, **kwds)\u001b[0m\n\u001b[1;32m    930\u001b[0m     \u001b[38;5;28mself\u001b[39m\u001b[38;5;241m.\u001b[39moptions[\u001b[38;5;124m\"\u001b[39m\u001b[38;5;124mhas_index_names\u001b[39m\u001b[38;5;124m\"\u001b[39m] \u001b[38;5;241m=\u001b[39m kwds[\u001b[38;5;124m\"\u001b[39m\u001b[38;5;124mhas_index_names\u001b[39m\u001b[38;5;124m\"\u001b[39m]\n\u001b[1;32m    932\u001b[0m \u001b[38;5;28mself\u001b[39m\u001b[38;5;241m.\u001b[39mhandles: IOHandles \u001b[38;5;241m|\u001b[39m \u001b[38;5;28;01mNone\u001b[39;00m \u001b[38;5;241m=\u001b[39m \u001b[38;5;28;01mNone\u001b[39;00m\n\u001b[0;32m--> 933\u001b[0m \u001b[38;5;28mself\u001b[39m\u001b[38;5;241m.\u001b[39m_engine \u001b[38;5;241m=\u001b[39m \u001b[38;5;28;43mself\u001b[39;49m\u001b[38;5;241;43m.\u001b[39;49m\u001b[43m_make_engine\u001b[49m\u001b[43m(\u001b[49m\u001b[43mf\u001b[49m\u001b[43m,\u001b[49m\u001b[43m \u001b[49m\u001b[38;5;28;43mself\u001b[39;49m\u001b[38;5;241;43m.\u001b[39;49m\u001b[43mengine\u001b[49m\u001b[43m)\u001b[49m\n",
      "File \u001b[0;32m~/opt/anaconda3/envs/dash/lib/python3.9/site-packages/pandas/io/parsers/readers.py:1217\u001b[0m, in \u001b[0;36mTextFileReader._make_engine\u001b[0;34m(self, f, engine)\u001b[0m\n\u001b[1;32m   1213\u001b[0m     mode \u001b[38;5;241m=\u001b[39m \u001b[38;5;124m\"\u001b[39m\u001b[38;5;124mrb\u001b[39m\u001b[38;5;124m\"\u001b[39m\n\u001b[1;32m   1214\u001b[0m \u001b[38;5;66;03m# error: No overload variant of \"get_handle\" matches argument types\u001b[39;00m\n\u001b[1;32m   1215\u001b[0m \u001b[38;5;66;03m# \"Union[str, PathLike[str], ReadCsvBuffer[bytes], ReadCsvBuffer[str]]\"\u001b[39;00m\n\u001b[1;32m   1216\u001b[0m \u001b[38;5;66;03m# , \"str\", \"bool\", \"Any\", \"Any\", \"Any\", \"Any\", \"Any\"\u001b[39;00m\n\u001b[0;32m-> 1217\u001b[0m \u001b[38;5;28mself\u001b[39m\u001b[38;5;241m.\u001b[39mhandles \u001b[38;5;241m=\u001b[39m \u001b[43mget_handle\u001b[49m\u001b[43m(\u001b[49m\u001b[43m  \u001b[49m\u001b[38;5;66;43;03m# type: ignore[call-overload]\u001b[39;49;00m\n\u001b[1;32m   1218\u001b[0m \u001b[43m    \u001b[49m\u001b[43mf\u001b[49m\u001b[43m,\u001b[49m\n\u001b[1;32m   1219\u001b[0m \u001b[43m    \u001b[49m\u001b[43mmode\u001b[49m\u001b[43m,\u001b[49m\n\u001b[1;32m   1220\u001b[0m \u001b[43m    \u001b[49m\u001b[43mencoding\u001b[49m\u001b[38;5;241;43m=\u001b[39;49m\u001b[38;5;28;43mself\u001b[39;49m\u001b[38;5;241;43m.\u001b[39;49m\u001b[43moptions\u001b[49m\u001b[38;5;241;43m.\u001b[39;49m\u001b[43mget\u001b[49m\u001b[43m(\u001b[49m\u001b[38;5;124;43m\"\u001b[39;49m\u001b[38;5;124;43mencoding\u001b[39;49m\u001b[38;5;124;43m\"\u001b[39;49m\u001b[43m,\u001b[49m\u001b[43m \u001b[49m\u001b[38;5;28;43;01mNone\u001b[39;49;00m\u001b[43m)\u001b[49m\u001b[43m,\u001b[49m\n\u001b[1;32m   1221\u001b[0m \u001b[43m    \u001b[49m\u001b[43mcompression\u001b[49m\u001b[38;5;241;43m=\u001b[39;49m\u001b[38;5;28;43mself\u001b[39;49m\u001b[38;5;241;43m.\u001b[39;49m\u001b[43moptions\u001b[49m\u001b[38;5;241;43m.\u001b[39;49m\u001b[43mget\u001b[49m\u001b[43m(\u001b[49m\u001b[38;5;124;43m\"\u001b[39;49m\u001b[38;5;124;43mcompression\u001b[39;49m\u001b[38;5;124;43m\"\u001b[39;49m\u001b[43m,\u001b[49m\u001b[43m \u001b[49m\u001b[38;5;28;43;01mNone\u001b[39;49;00m\u001b[43m)\u001b[49m\u001b[43m,\u001b[49m\n\u001b[1;32m   1222\u001b[0m \u001b[43m    \u001b[49m\u001b[43mmemory_map\u001b[49m\u001b[38;5;241;43m=\u001b[39;49m\u001b[38;5;28;43mself\u001b[39;49m\u001b[38;5;241;43m.\u001b[39;49m\u001b[43moptions\u001b[49m\u001b[38;5;241;43m.\u001b[39;49m\u001b[43mget\u001b[49m\u001b[43m(\u001b[49m\u001b[38;5;124;43m\"\u001b[39;49m\u001b[38;5;124;43mmemory_map\u001b[39;49m\u001b[38;5;124;43m\"\u001b[39;49m\u001b[43m,\u001b[49m\u001b[43m \u001b[49m\u001b[38;5;28;43;01mFalse\u001b[39;49;00m\u001b[43m)\u001b[49m\u001b[43m,\u001b[49m\n\u001b[1;32m   1223\u001b[0m \u001b[43m    \u001b[49m\u001b[43mis_text\u001b[49m\u001b[38;5;241;43m=\u001b[39;49m\u001b[43mis_text\u001b[49m\u001b[43m,\u001b[49m\n\u001b[1;32m   1224\u001b[0m \u001b[43m    \u001b[49m\u001b[43merrors\u001b[49m\u001b[38;5;241;43m=\u001b[39;49m\u001b[38;5;28;43mself\u001b[39;49m\u001b[38;5;241;43m.\u001b[39;49m\u001b[43moptions\u001b[49m\u001b[38;5;241;43m.\u001b[39;49m\u001b[43mget\u001b[49m\u001b[43m(\u001b[49m\u001b[38;5;124;43m\"\u001b[39;49m\u001b[38;5;124;43mencoding_errors\u001b[39;49m\u001b[38;5;124;43m\"\u001b[39;49m\u001b[43m,\u001b[49m\u001b[43m \u001b[49m\u001b[38;5;124;43m\"\u001b[39;49m\u001b[38;5;124;43mstrict\u001b[39;49m\u001b[38;5;124;43m\"\u001b[39;49m\u001b[43m)\u001b[49m\u001b[43m,\u001b[49m\n\u001b[1;32m   1225\u001b[0m \u001b[43m    \u001b[49m\u001b[43mstorage_options\u001b[49m\u001b[38;5;241;43m=\u001b[39;49m\u001b[38;5;28;43mself\u001b[39;49m\u001b[38;5;241;43m.\u001b[39;49m\u001b[43moptions\u001b[49m\u001b[38;5;241;43m.\u001b[39;49m\u001b[43mget\u001b[49m\u001b[43m(\u001b[49m\u001b[38;5;124;43m\"\u001b[39;49m\u001b[38;5;124;43mstorage_options\u001b[39;49m\u001b[38;5;124;43m\"\u001b[39;49m\u001b[43m,\u001b[49m\u001b[43m \u001b[49m\u001b[38;5;28;43;01mNone\u001b[39;49;00m\u001b[43m)\u001b[49m\u001b[43m,\u001b[49m\n\u001b[1;32m   1226\u001b[0m \u001b[43m\u001b[49m\u001b[43m)\u001b[49m\n\u001b[1;32m   1227\u001b[0m \u001b[38;5;28;01massert\u001b[39;00m \u001b[38;5;28mself\u001b[39m\u001b[38;5;241m.\u001b[39mhandles \u001b[38;5;129;01mis\u001b[39;00m \u001b[38;5;129;01mnot\u001b[39;00m \u001b[38;5;28;01mNone\u001b[39;00m\n\u001b[1;32m   1228\u001b[0m f \u001b[38;5;241m=\u001b[39m \u001b[38;5;28mself\u001b[39m\u001b[38;5;241m.\u001b[39mhandles\u001b[38;5;241m.\u001b[39mhandle\n",
      "File \u001b[0;32m~/opt/anaconda3/envs/dash/lib/python3.9/site-packages/pandas/io/common.py:789\u001b[0m, in \u001b[0;36mget_handle\u001b[0;34m(path_or_buf, mode, encoding, compression, memory_map, is_text, errors, storage_options)\u001b[0m\n\u001b[1;32m    784\u001b[0m \u001b[38;5;28;01melif\u001b[39;00m \u001b[38;5;28misinstance\u001b[39m(handle, \u001b[38;5;28mstr\u001b[39m):\n\u001b[1;32m    785\u001b[0m     \u001b[38;5;66;03m# Check whether the filename is to be opened in binary mode.\u001b[39;00m\n\u001b[1;32m    786\u001b[0m     \u001b[38;5;66;03m# Binary mode does not support 'encoding' and 'newline'.\u001b[39;00m\n\u001b[1;32m    787\u001b[0m     \u001b[38;5;28;01mif\u001b[39;00m ioargs\u001b[38;5;241m.\u001b[39mencoding \u001b[38;5;129;01mand\u001b[39;00m \u001b[38;5;124m\"\u001b[39m\u001b[38;5;124mb\u001b[39m\u001b[38;5;124m\"\u001b[39m \u001b[38;5;129;01mnot\u001b[39;00m \u001b[38;5;129;01min\u001b[39;00m ioargs\u001b[38;5;241m.\u001b[39mmode:\n\u001b[1;32m    788\u001b[0m         \u001b[38;5;66;03m# Encoding\u001b[39;00m\n\u001b[0;32m--> 789\u001b[0m         handle \u001b[38;5;241m=\u001b[39m \u001b[38;5;28;43mopen\u001b[39;49m\u001b[43m(\u001b[49m\n\u001b[1;32m    790\u001b[0m \u001b[43m            \u001b[49m\u001b[43mhandle\u001b[49m\u001b[43m,\u001b[49m\n\u001b[1;32m    791\u001b[0m \u001b[43m            \u001b[49m\u001b[43mioargs\u001b[49m\u001b[38;5;241;43m.\u001b[39;49m\u001b[43mmode\u001b[49m\u001b[43m,\u001b[49m\n\u001b[1;32m    792\u001b[0m \u001b[43m            \u001b[49m\u001b[43mencoding\u001b[49m\u001b[38;5;241;43m=\u001b[39;49m\u001b[43mioargs\u001b[49m\u001b[38;5;241;43m.\u001b[39;49m\u001b[43mencoding\u001b[49m\u001b[43m,\u001b[49m\n\u001b[1;32m    793\u001b[0m \u001b[43m            \u001b[49m\u001b[43merrors\u001b[49m\u001b[38;5;241;43m=\u001b[39;49m\u001b[43merrors\u001b[49m\u001b[43m,\u001b[49m\n\u001b[1;32m    794\u001b[0m \u001b[43m            \u001b[49m\u001b[43mnewline\u001b[49m\u001b[38;5;241;43m=\u001b[39;49m\u001b[38;5;124;43m\"\u001b[39;49m\u001b[38;5;124;43m\"\u001b[39;49m\u001b[43m,\u001b[49m\n\u001b[1;32m    795\u001b[0m \u001b[43m        \u001b[49m\u001b[43m)\u001b[49m\n\u001b[1;32m    796\u001b[0m     \u001b[38;5;28;01melse\u001b[39;00m:\n\u001b[1;32m    797\u001b[0m         \u001b[38;5;66;03m# Binary mode\u001b[39;00m\n\u001b[1;32m    798\u001b[0m         handle \u001b[38;5;241m=\u001b[39m \u001b[38;5;28mopen\u001b[39m(handle, ioargs\u001b[38;5;241m.\u001b[39mmode)\n",
      "\u001b[0;31mFileNotFoundError\u001b[0m: [Errno 2] No such file or directory: '.../data/Revenue data/Data.csv'"
     ]
    }
   ],
   "source": [
    "# Call the data\n",
    "df = pd.read_csv(path + 'Revenue data/Data.csv')"
   ]
  },
  {
   "cell_type": "markdown",
   "id": "cee247bc",
   "metadata": {},
   "source": [
    "## Create and Arrange Data Variables "
   ]
  },
  {
   "cell_type": "code",
   "execution_count": 11,
   "id": "fc5b1237",
   "metadata": {},
   "outputs": [],
   "source": [
    "# Create Margin\n",
    "df['Margin'] = df['Revenue'] - df['Cost']"
   ]
  },
  {
   "cell_type": "code",
   "execution_count": 12,
   "id": "2027ddbb",
   "metadata": {},
   "outputs": [],
   "source": [
    "# Create variables for the year and month\n",
    "df['year'] = df['OrderDate'].str.slice(start = 0, stop = 4)\n",
    "df['month'] = df['OrderDate'].str.slice(start = 5, stop = 7)\n",
    "# Arrange the data\n",
    "df = df.sort_values(by = ['Region','Channel','Category','Item Type','year','month','Gender'])"
   ]
  },
  {
   "cell_type": "markdown",
   "id": "8b31e7f1",
   "metadata": {},
   "source": [
    "## Year Filter"
   ]
  },
  {
   "cell_type": "code",
   "execution_count": 13,
   "id": "84c41ee0",
   "metadata": {},
   "outputs": [],
   "source": [
    "years = list(df['year'].unique())\n",
    "years.sort()"
   ]
  },
  {
   "cell_type": "markdown",
   "id": "57ea1e70",
   "metadata": {},
   "source": [
    "## App & Layout "
   ]
  },
  {
   "cell_type": "code",
   "execution_count": 14,
   "id": "33e83dbf",
   "metadata": {},
   "outputs": [],
   "source": [
    "# App structure\n",
    "app = dash.Dash(__name__)\n",
    "app.title = (\"Dashboard | Revenue Data\")\n",
    "server = app.server\n",
    "\n",
    "# App layout\n",
    "app.layout = html.Div([\n",
    "    \n",
    "    # Main Title\n",
    "    html.H2('Revenue Dashboard with Dash', style={'textAlign': 'center', 'marginBottom':10, 'marginTop':10}),\n",
    "    \n",
    "    # Dividing the sections - Left\n",
    "    html.Div([\n",
    "        \n",
    "        ### Pie by Channel, Gender, AgeGroup\n",
    "        html.Div(className='Pie',\n",
    "                 children=[\n",
    "                     html.Div(dcc.Graph(id='channel'), style={'float':'left', 'display':'inline-block', 'width':'33%'}),\n",
    "                     html.Div(dcc.Graph(id='gender'), style={'float':'left', 'display':'inline-block', 'width':'33%'}),\n",
    "                     html.Div(dcc.Graph(id='agegroup'), style={'float':'right', 'width':'33%'})\n",
    "                 ]),\n",
    "        \n",
    "        ### Indicater by Region, Bar by Country\n",
    "        html.Div(className='Indicator & Bar',\n",
    "                 children=[\n",
    "                     html.Div(dcc.Graph(id='idc_africa'), style={'float':'left', 'display':'inline-block', 'width':'12%'}),\n",
    "                     html.Div(dcc.Graph(id='idc_america'), style={'float':'left', 'display':'inline-block', 'width':'12%'}),\n",
    "                     html.Div(dcc.Graph(id='idc_asia'), style={'float':'left', 'display':'inline-block', 'width':'12%'}),\n",
    "                     html.Div(dcc.Graph(id='idc_europe'), style={'float':'left', 'display':'inline-block', 'width':'12%'}),\n",
    "                     html.Div(dcc.Graph(id='idc_oceania'), style={'float':'left', 'display':'inline-block', 'width':'12%'}),\n",
    "                     html.Div(dcc.Graph(id='country'), style={'float':'right', 'width':'40%'})\n",
    "                 ]),\n",
    "                \n",
    "        ### Line by YM, Radar by Category\n",
    "        html.Div(className='Line',\n",
    "                 children=[\n",
    "                     html.Div(dcc.Graph(id='line'), style={'float':'left', 'display':'inline-block', 'width':'60%'}),\n",
    "                     html.Div(dcc.Graph(id='radar'), style={'float':'right', 'width':'40%'})\n",
    "                 ])  \n",
    "        ], style={'float':'left', 'display':'inline-block', 'width':'65%'}),\n",
    "    \n",
    "    # Dividing the Sections - Right\n",
    "    html.Div([\n",
    "        html.Div(children=[\n",
    "                    html.Div(dcc.Dropdown(id = 'id_year',\n",
    "                                         options=[{'label':i, 'value':i} for i in years],\n",
    "                                         value = max(years),\n",
    "                                         style={'width':'50%'})),\n",
    "                    html.Div(dcc.Graph(id='map')),\n",
    "                    html.Div(dcc.Graph(id='sankey'))\n",
    "            ])\n",
    "    ], style={'float':'right', 'width':'35%'})\n",
    "])"
   ]
  },
  {
   "cell_type": "markdown",
   "id": "392dc097",
   "metadata": {},
   "source": [
    "## Pie Chart "
   ]
  },
  {
   "cell_type": "code",
   "execution_count": 15,
   "id": "d21553e4",
   "metadata": {},
   "outputs": [],
   "source": [
    "cols = DEFAULT_PLOTLY_COLORS\n",
    "\n",
    "### Pie \n",
    "@app.callback([Output('channel',  'figure'), \n",
    "               Output('gender', 'figure'), \n",
    "               Output('agegroup',    'figure')], \n",
    "              [Input('id_year', 'value')])\n",
    "\n",
    "def update_output(val):\n",
    "        \n",
    "    # loop values\n",
    "    pies = ['Channel', 'Gender', 'AgeGroup']\n",
    "    \n",
    "    # data by channel, gender, agegroup\n",
    "    figures = []\n",
    "    \n",
    "    for i in range(len(pies)):\n",
    "        df_fig = df[df['year'] == val]\n",
    "        df_fig = df_fig.loc[:,[pies[i],'Revenue']].groupby(by = [pies[i]], as_index = False).sum()\n",
    "        \n",
    "        # hover text\n",
    "        df_fig['text'] = round(df_fig['Revenue']/1000000,1).astype(str) + 'M'\n",
    "        \n",
    "        \n",
    "        trace = go.Pie(labels = df_fig[pies[i]],\n",
    "                       values = df_fig['Revenue'],\n",
    "                       name = '',\n",
    "                       text = df_fig['text'],\n",
    "                       textinfo = 'label+percent',\n",
    "                       hovertemplate = \"[%{label}]<br> Revenue: %{text}<br> Rate: %{percent}\",\n",
    "                       hoverinfo='text',\n",
    "                       insidetextorientation = 'tangential',   # textinfo type (tangential / auto / horizontal / radial)\n",
    "                       hole = 0.4, \n",
    "                       marker_colors = cols  # pie color\n",
    "                       )\n",
    "        data = [trace]\n",
    "        \n",
    "        layout = go.Layout(title=pies[i], title_x=0.5, title_xanchor='center', showlegend=False, \n",
    "                       height=250, margin=dict(l=50, r=50, b=10, t=50)\n",
    "                      )\n",
    "        \n",
    "        figure = go.Figure(data, layout)\n",
    "        figures.append(figure)\n",
    "\n",
    "    return figures[0], figures[1], figures[2]"
   ]
  },
  {
   "cell_type": "markdown",
   "id": "dc9f8398",
   "metadata": {},
   "source": [
    "## Indicator "
   ]
  },
  {
   "cell_type": "code",
   "execution_count": 24,
   "id": "3371e36e",
   "metadata": {},
   "outputs": [],
   "source": [
    "### by Region\n",
    "@app.callback([Output('idc_africa',  'figure'), \n",
    "               Output('idc_america', 'figure'), \n",
    "               Output('idc_asia',    'figure'), \n",
    "               Output('idc_europe',  'figure'), \n",
    "               Output('idc_oceania', 'figure')], \n",
    "              [Input('id_year', 'value')])\n",
    "\n",
    "def update_output(val):\n",
    "        \n",
    "    # reg - unique values\n",
    "    reg = df['Region'].unique()\n",
    "    \n",
    "    # data by Region\n",
    "    figures = []\n",
    "    \n",
    "    for i in range(len(reg)):\n",
    "        df_fig = df[(df['year'] == val) & (df['Region'] == reg[i])]\n",
    "        df_fig = round(df_fig.loc[:,['Revenue','Margin']].sum()/1000000,1) # Milion units\n",
    "        \n",
    "        values = df_fig['Revenue']\n",
    "        deltas = df_fig['Margin']\n",
    "        \n",
    "        trace = go.Indicator(mode = 'number+delta',\n",
    "                             value = values,\n",
    "                             number = dict(font_size = 35,    # font size fixed (otherwise, the fonts will be different sizes by default)\n",
    "                                          valueformat = \".1f\",\n",
    "                                          suffix='M'),\n",
    "                             delta = dict(reference = values - deltas,\n",
    "                                          font_size = 20,\n",
    "                                          valueformat = \".1f\",\n",
    "                                          relative = False,\n",
    "                                          increasing_color = '#3078b4', #increasing_symbol = '',\n",
    "                                          decreasing_color = '#d13b40', #decreasing_symbol = '',\n",
    "                                          position = 'top'),\n",
    "                             title = dict(text = reg[i], font_size = 20)\n",
    "                            )\n",
    "        data = [trace]\n",
    "        \n",
    "        layout = go.Layout(height=310)\n",
    "        figure = go.Figure(data, layout)\n",
    "        figures.append(figure)\n",
    "\n",
    "    return figures[0], figures[1], figures[2], figures[3], figures[4]"
   ]
  },
  {
   "cell_type": "markdown",
   "id": "205948a9",
   "metadata": {},
   "source": [
    "## Bar Chart "
   ]
  },
  {
   "cell_type": "code",
   "execution_count": 16,
   "id": "f79f359a",
   "metadata": {},
   "outputs": [],
   "source": [
    "@app.callback(Output('country', 'figure'), [Input('id_year', 'value')])\n",
    "\n",
    "def update_output(val):\n",
    "    \n",
    "    # Revenue by Country\n",
    "    df_con = df[df['year'] == val]\n",
    "    df_con = df_con.loc[:,['Country','Revenue']].groupby(by = ['Country'], as_index = False).sum()\n",
    "    df_con = df_con.sort_values(by = ['Revenue'], ascending=False)\n",
    "    \n",
    "    \n",
    "    # Rank & Top 10\n",
    "    df_con['rank'] = list(range(1, len(df_con['Country'])+1))\n",
    "    df_con = df_con[df_con['rank'] <= 10].reset_index(drop = True)\n",
    "    \n",
    "        \n",
    "    # hover_text\n",
    "    df_con['text'] = df_con['Country'] + ': ' + \\\n",
    "                     round(df_con['Revenue']/1000000,1).astype(str) + 'M'\n",
    "    \n",
    "    trace = go.Bar(x = df_con['Country'],\n",
    "                   y = df_con['Revenue'],\n",
    "                   text = df_con['text'],\n",
    "                   texttemplate = '%{text}', \n",
    "                   hoverinfo = 'text'\n",
    "                   )\n",
    "\n",
    "    data = [trace]\n",
    "    \n",
    "    layout = go.Layout(title = 'Country (Top 10)',\n",
    "                       # title_x=0,\n",
    "                       title_y=0.8,\n",
    "                       height=310\n",
    "                      )\n",
    "    \n",
    "    figure = {'data': data, 'layout': layout}\n",
    "\n",
    "    return figure"
   ]
  },
  {
   "cell_type": "markdown",
   "id": "18f02b2b",
   "metadata": {},
   "source": [
    "## Line Chart "
   ]
  },
  {
   "cell_type": "code",
   "execution_count": 17,
   "id": "d9d45f07",
   "metadata": {},
   "outputs": [],
   "source": [
    "### by YearMonth\n",
    "@app.callback(Output('line', 'figure'), [Input('id_year', 'value')])\n",
    "\n",
    "def update_output(val):\n",
    "    \n",
    "    traces = []\n",
    "    for yr in years:\n",
    "        \n",
    "        df_line = df[df['year'] == yr]\n",
    "        df_line = df_line.loc[:,['Revenue','year','month']].groupby(by = ['year','month'], as_index = False).sum()\n",
    "        \n",
    "        # hover_text\n",
    "        df_line['text'] = round(df_line['Revenue']/1000000,1).astype(str) + 'M'\n",
    "        \n",
    "        traces.append(go.Scatter(x = df_line['month'],\n",
    "                                 y = df_line['Revenue'],\n",
    "                                 text = df_line['text'],\n",
    "                                 hovertemplate = '%{text}',\n",
    "                                 mode = 'lines+markers',\n",
    "                                 marker = dict(size = 10),\n",
    "                                 name = yr))\n",
    "    data = traces\n",
    "    \n",
    "    layout = go.Layout(title = 'Revenue Trend (Monthly)',\n",
    "                       # tick0 = Set the placement of the first tick mark (use with dtick), dtick = spacing between tick marks\n",
    "                       xaxis = dict(title='Month', tickmode='linear', tick0=1, dtick=1, showgrid=False),\n",
    "                       legend = dict(orientation=\"h\",    # option= 'v', 'h'\n",
    "                                     xanchor=\"center\",   # option= 'auto', 'left', 'center', 'right'\n",
    "                                     x=0.5,              # x= 0(left), 1 (right)\n",
    "                                     yanchor=\"bottom\",   # option= 'auto', 'top', 'middle', 'bottom' \n",
    "                                     y=-1  #1.1,         # y= 1(top), -1(bottom)\n",
    "                                    ),\n",
    "                       height=320, margin=dict(l=50, r=10))\n",
    "    \n",
    "    figure = {'data': data, 'layout': layout}\n",
    "\n",
    "    return figure"
   ]
  },
  {
   "cell_type": "markdown",
   "id": "470f4be8",
   "metadata": {},
   "source": [
    "## Radar Chart"
   ]
  },
  {
   "cell_type": "code",
   "execution_count": 18,
   "id": "b50cee30",
   "metadata": {},
   "outputs": [],
   "source": [
    "### by Year & Category\n",
    "@app.callback(Output('radar', 'figure'), [Input('id_year', 'value')])\n",
    "\n",
    "def update_output(val):\n",
    "    \n",
    "    df_rad = df.loc[:,['Category','Revenue','year']].groupby(by = ['year','Category'], as_index=False).sum()\n",
    "    \n",
    "    # Rank by 5 step Range\n",
    "    df_rad['Rank'] = 0\n",
    "    df_rad.loc[df_rad['Revenue']<10000000, 'Rank'] = 1\n",
    "    df_rad.loc[(df_rad['Revenue']>=10000000) & (df_rad['Revenue']<30000000), 'Rank'] = 2\n",
    "    df_rad.loc[(df_rad['Revenue']>=30000000) & (df_rad['Revenue']<50000000), 'Rank'] = 3\n",
    "    df_rad.loc[(df_rad['Revenue']>=50000000) & (df_rad['Revenue']<70000000), 'Rank'] = 4\n",
    "    df_rad.loc[(df_rad['Revenue']>=70000000), 'Rank'] = 5\n",
    "    \n",
    "    # range label - Create categories by rank\n",
    "    rad_rg=pd.DataFrame([[0, '0'], [1, '< 10M'], [2, '10-30M'], [3, '30-50M'], [4, '50-70M'], [5, '70M <']])\n",
    "    rad_rg.columns = ['Rank', 'Range']\n",
    "    \n",
    "    # Join\n",
    "    df_radar = df_rad.merge(rad_rg, on = 'Rank', how = 'left')\n",
    "    \n",
    "    # Graph\n",
    "    traces = []\n",
    "    for yr in years:\n",
    "        dat = df_radar[df_radar['year'] == yr]   # Extract specific year\n",
    "        ranks = list(dat['Rank'])                # List of revenue ranking\n",
    "        ranks.append(ranks[0])                   # Append to list\n",
    "        thetas = list(dat['Category'])           # Item list\n",
    "        thetas.append(thetas[0])                 # Append to list\n",
    "        rank_R = list(dat['Range'])              # Cateogeory information by ranking\n",
    "        rank_R.append(rank_R[0])                 # Append to list\n",
    "\n",
    "        traces.append(go.Scatterpolar(r = ranks,\n",
    "                                      theta = thetas,\n",
    "                                      name = yr, \n",
    "                                      text = rank_R,\n",
    "                                      hovertemplate = \"Revenue:%{text}\"))\n",
    "    \n",
    "    data = traces\n",
    "    layout = go.Layout(legend = dict(orientation=\"h\",    # option= 'v', 'h'\n",
    "                                     xanchor=\"center\",   # option= 'auto', 'left', 'center', 'right'\n",
    "                                     x=0.5,              # x= 0(left), 1 (right)\n",
    "                                     yanchor=\"bottom\",   # option= 'auto', 'top', 'middle', 'bottom' \n",
    "                                     y=-1                # y= 1(top), -1(bottom)\n",
    "                                    ),\n",
    "                       height = 320)    \n",
    "   \n",
    "    figure = {'data': data, 'layout': layout}\n",
    "\n",
    "    return figure"
   ]
  },
  {
   "cell_type": "markdown",
   "id": "c1eb6ec9",
   "metadata": {},
   "source": [
    "## Map Graph "
   ]
  },
  {
   "cell_type": "code",
   "execution_count": 19,
   "id": "bf3d51ec",
   "metadata": {},
   "outputs": [],
   "source": [
    "### Choropleth Map\n",
    "@app.callback(Output('map', 'figure'), [Input('id_year', 'value')])\n",
    "\n",
    "def update_output(val):\n",
    "    \n",
    "    # Code3 by Country\n",
    "    df_code = df.loc[:,['Country','Code3']].drop_duplicates()\n",
    "\n",
    "    # data\n",
    "    df_map = df[df['year'] == val]\n",
    "    df_map = df_map.loc[:,['Country','Revenue']].groupby(by = ['Country'], as_index = False).sum()\n",
    "    \n",
    "    # Join map & Code3\n",
    "    df_m = df_map.merge(df_code, on = 'Country', how = 'left')\n",
    "    \n",
    "    # hover_text\n",
    "    df_m['text'] = df_m['Country'] + ' - Total Revenue : ' + \\\n",
    "                   round(df_m['Revenue']/1000000,1).astype(str) + 'M'\n",
    "    \n",
    "    trace = go.Choropleth(\n",
    "                    locations = df_m['Code3'],\n",
    "                    z = df_m['Revenue'],\n",
    "                    text = df_m['text'],\n",
    "                    hoverinfo = 'text',          # Activate only the inputted text\n",
    "                    colorscale = 'Blues',        # color= Greens, Reds, Oranges, ...\n",
    "                    autocolorscale=False,\n",
    "                    reversescale=False,\n",
    "                    marker_line_color='darkgray',\n",
    "                    marker_line_width=0.5,\n",
    "                    \n",
    "                    # colorbar option = legend bar\n",
    "                    colorbar_title = 'Revenue ($)',\n",
    "                    colorbar_thickness=15,      # bar width (default=30)\n",
    "                    colorbar_len=1,             # bar length (default=1)\n",
    "                    colorbar_x=1.01,            # bar x location (default=1.01, between -2~3)\n",
    "                    colorbar_ticklen=10         # bar tickline length (default=5)\n",
    "                                )\n",
    "    \n",
    "    data = [trace]\n",
    "    layout = go.Layout(title = 'Revenue Map',\n",
    "                       geo = dict(showframe=False,\n",
    "                                  showcoastlines=False,\n",
    "                                  projection_type = 'equirectangular'),\n",
    "                       height=420, margin=dict(l=50, r=50, b=20, t=50))\n",
    "    \n",
    "    figure = {'data': data, 'layout': layout}\n",
    "\n",
    "    return figure"
   ]
  },
  {
   "cell_type": "markdown",
   "id": "7be5875a",
   "metadata": {},
   "source": [
    "## Sankey Graph "
   ]
  },
  {
   "cell_type": "code",
   "execution_count": 20,
   "id": "c4cbcda8",
   "metadata": {},
   "outputs": [],
   "source": [
    "### Sankey\n",
    "@app.callback(Output('sankey', 'figure'), [Input('id_year', 'value')])\n",
    "\n",
    "def update_output(val):\n",
    "    \n",
    "    # Arrange in ascending order of revenue for the continent, channel, item in 2020\n",
    "    df_san = df[df['year'] == val].iloc[:,[13,4,11,9]]\n",
    "    df_san = df_san.sort_values(by = ['Region','Channel','Category'])\n",
    "    \n",
    "    # label\n",
    "    l_reg = list(df_san['Region'].unique()) # 5 values (order = 0 1 2 3 4)\n",
    "    l_cha = list(df_san['Channel'].unique()) # 2 values (order = 5 6)\n",
    "    l_cat = list(df_san['Category'].unique()) # 5 values (order = 7 8 9 10 11)\n",
    "    labels = l_reg + l_cha + l_cat # 12 values (order = 0 ~ 11)\n",
    "    \n",
    "    # source\n",
    "    source1 = list(np.repeat(range(0, len(l_reg)), len(l_cha)))\n",
    "    source2 = list(np.repeat(range(len(l_cat), len(l_cat)+len(l_cha)), len(l_cat)))\n",
    "    sources = source1 + source2\n",
    "    \n",
    "    # target\n",
    "    target1 = list(range(len(l_cat), len(l_cat) + len(l_cha))) * len(l_cat)\n",
    "    target2 = list(range(len(l_cha) + len(l_cat), len(l_reg) + len(l_cha) + len(l_cat))) * len(l_cha)\n",
    "    targets = target1 + target2\n",
    "    \n",
    "    # value\n",
    "    value1 = df_san.groupby(by = ['Region','Channel'], as_index = False).sum()\n",
    "    value2 = df_san.groupby(by = ['Channel','Category'], as_index = False).sum()\n",
    "    values = list(value1['Revenue']) + list(value2['Revenue'])\n",
    "    \n",
    "    trace = go.Sankey(node = dict(label = labels,\n",
    "                              pad = 15,\n",
    "                              thickness = 20,\n",
    "                              line = dict(color = 'black', width = 0.5),\n",
    "                              color = '#3078b4'),\n",
    "                  link = dict(source = sources,\n",
    "                              target = targets,\n",
    "                              value = values,\n",
    "                              color = '#EAEAEA'))\n",
    "    \n",
    "    data = [trace]\n",
    "    layout = go.Layout(title = dict(text='Revenue Flow', font_size=16),\n",
    "                       font_size = 15,\n",
    "                       height=420, margin=dict(l=50, r=50, b=20, t=50))\n",
    "    \n",
    "    figure = {'data': data, 'layout': layout}\n",
    "\n",
    "    return figure"
   ]
  },
  {
   "cell_type": "code",
   "execution_count": null,
   "id": "b2a4dc60",
   "metadata": {},
   "outputs": [
    {
     "name": "stdout",
     "output_type": "stream",
     "text": [
      "Dash is running on http://127.0.0.1:8050/\n",
      "\n",
      " * Serving Flask app \"__main__\" (lazy loading)\n",
      " * Environment: production\n",
      "\u001b[31m   WARNING: This is a development server. Do not use it in a production deployment.\u001b[0m\n",
      "\u001b[2m   Use a production WSGI server instead.\u001b[0m\n",
      " * Debug mode: off\n"
     ]
    },
    {
     "name": "stderr",
     "output_type": "stream",
     "text": [
      " * Running on http://127.0.0.1:8050/ (Press CTRL+C to quit)\n",
      "127.0.0.1 - - [06/Apr/2022 12:45:07] \"GET / HTTP/1.1\" 200 -\n",
      "127.0.0.1 - - [06/Apr/2022 12:45:08] \"GET /_dash-layout HTTP/1.1\" 200 -\n",
      "127.0.0.1 - - [06/Apr/2022 12:45:08] \"GET /_dash-dependencies HTTP/1.1\" 200 -\n",
      "127.0.0.1 - - [06/Apr/2022 12:45:08] \"GET /_dash-component-suites/dash/dcc/async-graph.js HTTP/1.1\" 200 -\n",
      "127.0.0.1 - - [06/Apr/2022 12:45:08] \"GET /_dash-component-suites/dash/dcc/async-dropdown.js HTTP/1.1\" 200 -\n",
      "127.0.0.1 - - [06/Apr/2022 12:45:08] \"GET /_dash-component-suites/dash/dcc/async-plotlyjs.js HTTP/1.1\" 200 -\n"
     ]
    }
   ],
   "source": [
    "# Run App\n",
    "if __name__=='__main__':\n",
    "    app.run_server(debug=False)"
   ]
  },
  {
   "cell_type": "code",
   "execution_count": null,
   "id": "4cce65d1",
   "metadata": {},
   "outputs": [],
   "source": []
  }
 ],
 "metadata": {
  "kernelspec": {
   "display_name": "Python 3 (ipykernel)",
   "language": "python",
   "name": "python3"
  },
  "language_info": {
   "codemirror_mode": {
    "name": "ipython",
    "version": 3
   },
   "file_extension": ".py",
   "mimetype": "text/x-python",
   "name": "python",
   "nbconvert_exporter": "python",
   "pygments_lexer": "ipython3",
   "version": "3.9.12"
  }
 },
 "nbformat": 4,
 "nbformat_minor": 5
}
